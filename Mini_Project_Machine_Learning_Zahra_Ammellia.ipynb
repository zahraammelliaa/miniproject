{
  "nbformat": 4,
  "nbformat_minor": 0,
  "metadata": {
    "colab": {
      "provenance": []
    },
    "kernelspec": {
      "name": "python3",
      "display_name": "Python 3"
    },
    "language_info": {
      "name": "python"
    }
  },
  "cells": [
    {
      "cell_type": "code",
      "execution_count": 22,
      "metadata": {
        "id": "njNGy174b_3x"
      },
      "outputs": [],
      "source": [
        "import numpy as np\n",
        "import pandas as pd\n",
        "import os\n",
        "for dirname, _, filenames in os.walk('/kaggle/input'):\n",
        "    for filename in filenames:\n",
        "        print(os.path.join(dirname, filename))"
      ]
    },
    {
      "cell_type": "code",
      "source": [
        "import pandas as pd\n",
        "import numpy as np\n",
        "import matplotlib.pyplot as plt\n",
        "import matplotlib.pyplot as plt\n",
        "import seaborn as sns\n",
        "import plotly.express as px"
      ],
      "metadata": {
        "id": "bEb2xhPdcbeO"
      },
      "execution_count": 23,
      "outputs": []
    },
    {
      "cell_type": "code",
      "source": [
        "import numpy as np\n",
        "import pandas as pd\n",
        "from sklearn import metrics\n",
        "%matplotlib inline\n",
        "import matplotlib.pyplot as plt\n",
        "from sklearn.model_selection import train_test_split"
      ],
      "metadata": {
        "id": "ah7mClyNcdGG"
      },
      "execution_count": 24,
      "outputs": []
    },
    {
      "cell_type": "code",
      "source": [
        "import pandas as pd"
      ],
      "metadata": {
        "id": "ToU2DoBFcqme"
      },
      "execution_count": 25,
      "outputs": []
    },
    {
      "cell_type": "code",
      "source": [
        "data = pd.read_excel('SahamMNCBank (1).xlsx')"
      ],
      "metadata": {
        "id": "HS_pk_FxcuwJ"
      },
      "execution_count": 26,
      "outputs": []
    },
    {
      "cell_type": "code",
      "source": [
        "data"
      ],
      "metadata": {
        "colab": {
          "base_uri": "https://localhost:8080/",
          "height": 661
        },
        "id": "F5YMGzI8c9n9",
        "outputId": "07d12c19-e743-402d-dbfe-03601a99b847"
      },
      "execution_count": 27,
      "outputs": [
        {
          "output_type": "execute_result",
          "data": {
            "text/plain": [
              "           Date  Open  High  Low  Close       Change  Change(%)  Ratio(%)  \\\n",
              "0    2021-08-30   438   462  434    450         Rise         14      3.21   \n",
              "1    2021-08-27   432   462  410    436    Unchnaged          0      0.00   \n",
              "2    2021-08-26   470   472  436    436  Lower limit         32      6.83   \n",
              "3    2021-08-25   476   500  452    468    Unchnaged          0      0.00   \n",
              "4    2021-08-24   424   494  408    468         Rise         48     11.42   \n",
              "...         ...   ...   ...  ...    ...          ...        ...       ...   \n",
              "1852 2014-01-08   136   140  134    138         Rise          2      1.47   \n",
              "1853 2014-01-07   137   137  135    136         Fall          1      0.72   \n",
              "1854 2014-01-06   135   140  135    137         Fall          2      1.43   \n",
              "1855 2014-01-03   140   143  137    139         Fall          4      2.79   \n",
              "1856 2014-01-02   137   147  136    143         Rise         10      7.51   \n",
              "\n",
              "        Volume   Value(T)  Interval_High_Open  Interval_Open_From_LastDay  \\\n",
              "0      5444095  244258988                  24                           2   \n",
              "1      5179738  229353044                  30                          -4   \n",
              "2      5266867  239652022                   2                           2   \n",
              "3     14433942  691292155                  24                           8   \n",
              "4     14218161  640991240                  70                           4   \n",
              "...        ...        ...                 ...                         ...   \n",
              "1852     19968     271130                   4                           0   \n",
              "1853     37809     514110                   0                           0   \n",
              "1854     39089     535709                   5                          -4   \n",
              "1855     20685     289775                   3                          -3   \n",
              "1856     10150     142321                  10                         137   \n",
              "\n",
              "      Interval_Open_From_LastDay(%)  \n",
              "0                          0.458716  \n",
              "1                         -0.917431  \n",
              "2                          0.427350  \n",
              "3                          1.709402  \n",
              "4                          0.952381  \n",
              "...                             ...  \n",
              "1852                       0.000000  \n",
              "1853                       0.000000  \n",
              "1854                      -2.877698  \n",
              "1855                      -2.097902  \n",
              "1856                            NaN  \n",
              "\n",
              "[1857 rows x 13 columns]"
            ],
            "text/html": [
              "\n",
              "  <div id=\"df-a6381c65-9e4a-4241-881d-410dca1b0619\">\n",
              "    <div class=\"colab-df-container\">\n",
              "      <div>\n",
              "<style scoped>\n",
              "    .dataframe tbody tr th:only-of-type {\n",
              "        vertical-align: middle;\n",
              "    }\n",
              "\n",
              "    .dataframe tbody tr th {\n",
              "        vertical-align: top;\n",
              "    }\n",
              "\n",
              "    .dataframe thead th {\n",
              "        text-align: right;\n",
              "    }\n",
              "</style>\n",
              "<table border=\"1\" class=\"dataframe\">\n",
              "  <thead>\n",
              "    <tr style=\"text-align: right;\">\n",
              "      <th></th>\n",
              "      <th>Date</th>\n",
              "      <th>Open</th>\n",
              "      <th>High</th>\n",
              "      <th>Low</th>\n",
              "      <th>Close</th>\n",
              "      <th>Change</th>\n",
              "      <th>Change(%)</th>\n",
              "      <th>Ratio(%)</th>\n",
              "      <th>Volume</th>\n",
              "      <th>Value(T)</th>\n",
              "      <th>Interval_High_Open</th>\n",
              "      <th>Interval_Open_From_LastDay</th>\n",
              "      <th>Interval_Open_From_LastDay(%)</th>\n",
              "    </tr>\n",
              "  </thead>\n",
              "  <tbody>\n",
              "    <tr>\n",
              "      <th>0</th>\n",
              "      <td>2021-08-30</td>\n",
              "      <td>438</td>\n",
              "      <td>462</td>\n",
              "      <td>434</td>\n",
              "      <td>450</td>\n",
              "      <td>Rise</td>\n",
              "      <td>14</td>\n",
              "      <td>3.21</td>\n",
              "      <td>5444095</td>\n",
              "      <td>244258988</td>\n",
              "      <td>24</td>\n",
              "      <td>2</td>\n",
              "      <td>0.458716</td>\n",
              "    </tr>\n",
              "    <tr>\n",
              "      <th>1</th>\n",
              "      <td>2021-08-27</td>\n",
              "      <td>432</td>\n",
              "      <td>462</td>\n",
              "      <td>410</td>\n",
              "      <td>436</td>\n",
              "      <td>Unchnaged</td>\n",
              "      <td>0</td>\n",
              "      <td>0.00</td>\n",
              "      <td>5179738</td>\n",
              "      <td>229353044</td>\n",
              "      <td>30</td>\n",
              "      <td>-4</td>\n",
              "      <td>-0.917431</td>\n",
              "    </tr>\n",
              "    <tr>\n",
              "      <th>2</th>\n",
              "      <td>2021-08-26</td>\n",
              "      <td>470</td>\n",
              "      <td>472</td>\n",
              "      <td>436</td>\n",
              "      <td>436</td>\n",
              "      <td>Lower limit</td>\n",
              "      <td>32</td>\n",
              "      <td>6.83</td>\n",
              "      <td>5266867</td>\n",
              "      <td>239652022</td>\n",
              "      <td>2</td>\n",
              "      <td>2</td>\n",
              "      <td>0.427350</td>\n",
              "    </tr>\n",
              "    <tr>\n",
              "      <th>3</th>\n",
              "      <td>2021-08-25</td>\n",
              "      <td>476</td>\n",
              "      <td>500</td>\n",
              "      <td>452</td>\n",
              "      <td>468</td>\n",
              "      <td>Unchnaged</td>\n",
              "      <td>0</td>\n",
              "      <td>0.00</td>\n",
              "      <td>14433942</td>\n",
              "      <td>691292155</td>\n",
              "      <td>24</td>\n",
              "      <td>8</td>\n",
              "      <td>1.709402</td>\n",
              "    </tr>\n",
              "    <tr>\n",
              "      <th>4</th>\n",
              "      <td>2021-08-24</td>\n",
              "      <td>424</td>\n",
              "      <td>494</td>\n",
              "      <td>408</td>\n",
              "      <td>468</td>\n",
              "      <td>Rise</td>\n",
              "      <td>48</td>\n",
              "      <td>11.42</td>\n",
              "      <td>14218161</td>\n",
              "      <td>640991240</td>\n",
              "      <td>70</td>\n",
              "      <td>4</td>\n",
              "      <td>0.952381</td>\n",
              "    </tr>\n",
              "    <tr>\n",
              "      <th>...</th>\n",
              "      <td>...</td>\n",
              "      <td>...</td>\n",
              "      <td>...</td>\n",
              "      <td>...</td>\n",
              "      <td>...</td>\n",
              "      <td>...</td>\n",
              "      <td>...</td>\n",
              "      <td>...</td>\n",
              "      <td>...</td>\n",
              "      <td>...</td>\n",
              "      <td>...</td>\n",
              "      <td>...</td>\n",
              "      <td>...</td>\n",
              "    </tr>\n",
              "    <tr>\n",
              "      <th>1852</th>\n",
              "      <td>2014-01-08</td>\n",
              "      <td>136</td>\n",
              "      <td>140</td>\n",
              "      <td>134</td>\n",
              "      <td>138</td>\n",
              "      <td>Rise</td>\n",
              "      <td>2</td>\n",
              "      <td>1.47</td>\n",
              "      <td>19968</td>\n",
              "      <td>271130</td>\n",
              "      <td>4</td>\n",
              "      <td>0</td>\n",
              "      <td>0.000000</td>\n",
              "    </tr>\n",
              "    <tr>\n",
              "      <th>1853</th>\n",
              "      <td>2014-01-07</td>\n",
              "      <td>137</td>\n",
              "      <td>137</td>\n",
              "      <td>135</td>\n",
              "      <td>136</td>\n",
              "      <td>Fall</td>\n",
              "      <td>1</td>\n",
              "      <td>0.72</td>\n",
              "      <td>37809</td>\n",
              "      <td>514110</td>\n",
              "      <td>0</td>\n",
              "      <td>0</td>\n",
              "      <td>0.000000</td>\n",
              "    </tr>\n",
              "    <tr>\n",
              "      <th>1854</th>\n",
              "      <td>2014-01-06</td>\n",
              "      <td>135</td>\n",
              "      <td>140</td>\n",
              "      <td>135</td>\n",
              "      <td>137</td>\n",
              "      <td>Fall</td>\n",
              "      <td>2</td>\n",
              "      <td>1.43</td>\n",
              "      <td>39089</td>\n",
              "      <td>535709</td>\n",
              "      <td>5</td>\n",
              "      <td>-4</td>\n",
              "      <td>-2.877698</td>\n",
              "    </tr>\n",
              "    <tr>\n",
              "      <th>1855</th>\n",
              "      <td>2014-01-03</td>\n",
              "      <td>140</td>\n",
              "      <td>143</td>\n",
              "      <td>137</td>\n",
              "      <td>139</td>\n",
              "      <td>Fall</td>\n",
              "      <td>4</td>\n",
              "      <td>2.79</td>\n",
              "      <td>20685</td>\n",
              "      <td>289775</td>\n",
              "      <td>3</td>\n",
              "      <td>-3</td>\n",
              "      <td>-2.097902</td>\n",
              "    </tr>\n",
              "    <tr>\n",
              "      <th>1856</th>\n",
              "      <td>2014-01-02</td>\n",
              "      <td>137</td>\n",
              "      <td>147</td>\n",
              "      <td>136</td>\n",
              "      <td>143</td>\n",
              "      <td>Rise</td>\n",
              "      <td>10</td>\n",
              "      <td>7.51</td>\n",
              "      <td>10150</td>\n",
              "      <td>142321</td>\n",
              "      <td>10</td>\n",
              "      <td>137</td>\n",
              "      <td>NaN</td>\n",
              "    </tr>\n",
              "  </tbody>\n",
              "</table>\n",
              "<p>1857 rows × 13 columns</p>\n",
              "</div>\n",
              "      <button class=\"colab-df-convert\" onclick=\"convertToInteractive('df-a6381c65-9e4a-4241-881d-410dca1b0619')\"\n",
              "              title=\"Convert this dataframe to an interactive table.\"\n",
              "              style=\"display:none;\">\n",
              "        \n",
              "  <svg xmlns=\"http://www.w3.org/2000/svg\" height=\"24px\"viewBox=\"0 0 24 24\"\n",
              "       width=\"24px\">\n",
              "    <path d=\"M0 0h24v24H0V0z\" fill=\"none\"/>\n",
              "    <path d=\"M18.56 5.44l.94 2.06.94-2.06 2.06-.94-2.06-.94-.94-2.06-.94 2.06-2.06.94zm-11 1L8.5 8.5l.94-2.06 2.06-.94-2.06-.94L8.5 2.5l-.94 2.06-2.06.94zm10 10l.94 2.06.94-2.06 2.06-.94-2.06-.94-.94-2.06-.94 2.06-2.06.94z\"/><path d=\"M17.41 7.96l-1.37-1.37c-.4-.4-.92-.59-1.43-.59-.52 0-1.04.2-1.43.59L10.3 9.45l-7.72 7.72c-.78.78-.78 2.05 0 2.83L4 21.41c.39.39.9.59 1.41.59.51 0 1.02-.2 1.41-.59l7.78-7.78 2.81-2.81c.8-.78.8-2.07 0-2.86zM5.41 20L4 18.59l7.72-7.72 1.47 1.35L5.41 20z\"/>\n",
              "  </svg>\n",
              "      </button>\n",
              "      \n",
              "  <style>\n",
              "    .colab-df-container {\n",
              "      display:flex;\n",
              "      flex-wrap:wrap;\n",
              "      gap: 12px;\n",
              "    }\n",
              "\n",
              "    .colab-df-convert {\n",
              "      background-color: #E8F0FE;\n",
              "      border: none;\n",
              "      border-radius: 50%;\n",
              "      cursor: pointer;\n",
              "      display: none;\n",
              "      fill: #1967D2;\n",
              "      height: 32px;\n",
              "      padding: 0 0 0 0;\n",
              "      width: 32px;\n",
              "    }\n",
              "\n",
              "    .colab-df-convert:hover {\n",
              "      background-color: #E2EBFA;\n",
              "      box-shadow: 0px 1px 2px rgba(60, 64, 67, 0.3), 0px 1px 3px 1px rgba(60, 64, 67, 0.15);\n",
              "      fill: #174EA6;\n",
              "    }\n",
              "\n",
              "    [theme=dark] .colab-df-convert {\n",
              "      background-color: #3B4455;\n",
              "      fill: #D2E3FC;\n",
              "    }\n",
              "\n",
              "    [theme=dark] .colab-df-convert:hover {\n",
              "      background-color: #434B5C;\n",
              "      box-shadow: 0px 1px 3px 1px rgba(0, 0, 0, 0.15);\n",
              "      filter: drop-shadow(0px 1px 2px rgba(0, 0, 0, 0.3));\n",
              "      fill: #FFFFFF;\n",
              "    }\n",
              "  </style>\n",
              "\n",
              "      <script>\n",
              "        const buttonEl =\n",
              "          document.querySelector('#df-a6381c65-9e4a-4241-881d-410dca1b0619 button.colab-df-convert');\n",
              "        buttonEl.style.display =\n",
              "          google.colab.kernel.accessAllowed ? 'block' : 'none';\n",
              "\n",
              "        async function convertToInteractive(key) {\n",
              "          const element = document.querySelector('#df-a6381c65-9e4a-4241-881d-410dca1b0619');\n",
              "          const dataTable =\n",
              "            await google.colab.kernel.invokeFunction('convertToInteractive',\n",
              "                                                     [key], {});\n",
              "          if (!dataTable) return;\n",
              "\n",
              "          const docLinkHtml = 'Like what you see? Visit the ' +\n",
              "            '<a target=\"_blank\" href=https://colab.research.google.com/notebooks/data_table.ipynb>data table notebook</a>'\n",
              "            + ' to learn more about interactive tables.';\n",
              "          element.innerHTML = '';\n",
              "          dataTable['output_type'] = 'display_data';\n",
              "          await google.colab.output.renderOutput(dataTable, element);\n",
              "          const docLink = document.createElement('div');\n",
              "          docLink.innerHTML = docLinkHtml;\n",
              "          element.appendChild(docLink);\n",
              "        }\n",
              "      </script>\n",
              "    </div>\n",
              "  </div>\n",
              "  "
            ]
          },
          "metadata": {},
          "execution_count": 27
        }
      ]
    },
    {
      "cell_type": "code",
      "source": [
        "stock = data"
      ],
      "metadata": {
        "id": "W6oQym1jdAaY"
      },
      "execution_count": 28,
      "outputs": []
    },
    {
      "cell_type": "code",
      "source": [
        "stock"
      ],
      "metadata": {
        "colab": {
          "base_uri": "https://localhost:8080/",
          "height": 661
        },
        "id": "7PrYWoOUdEeL",
        "outputId": "e5ca9b74-9c60-47aa-fd1c-f916569b1340"
      },
      "execution_count": 29,
      "outputs": [
        {
          "output_type": "execute_result",
          "data": {
            "text/plain": [
              "           Date  Open  High  Low  Close       Change  Change(%)  Ratio(%)  \\\n",
              "0    2021-08-30   438   462  434    450         Rise         14      3.21   \n",
              "1    2021-08-27   432   462  410    436    Unchnaged          0      0.00   \n",
              "2    2021-08-26   470   472  436    436  Lower limit         32      6.83   \n",
              "3    2021-08-25   476   500  452    468    Unchnaged          0      0.00   \n",
              "4    2021-08-24   424   494  408    468         Rise         48     11.42   \n",
              "...         ...   ...   ...  ...    ...          ...        ...       ...   \n",
              "1852 2014-01-08   136   140  134    138         Rise          2      1.47   \n",
              "1853 2014-01-07   137   137  135    136         Fall          1      0.72   \n",
              "1854 2014-01-06   135   140  135    137         Fall          2      1.43   \n",
              "1855 2014-01-03   140   143  137    139         Fall          4      2.79   \n",
              "1856 2014-01-02   137   147  136    143         Rise         10      7.51   \n",
              "\n",
              "        Volume   Value(T)  Interval_High_Open  Interval_Open_From_LastDay  \\\n",
              "0      5444095  244258988                  24                           2   \n",
              "1      5179738  229353044                  30                          -4   \n",
              "2      5266867  239652022                   2                           2   \n",
              "3     14433942  691292155                  24                           8   \n",
              "4     14218161  640991240                  70                           4   \n",
              "...        ...        ...                 ...                         ...   \n",
              "1852     19968     271130                   4                           0   \n",
              "1853     37809     514110                   0                           0   \n",
              "1854     39089     535709                   5                          -4   \n",
              "1855     20685     289775                   3                          -3   \n",
              "1856     10150     142321                  10                         137   \n",
              "\n",
              "      Interval_Open_From_LastDay(%)  \n",
              "0                          0.458716  \n",
              "1                         -0.917431  \n",
              "2                          0.427350  \n",
              "3                          1.709402  \n",
              "4                          0.952381  \n",
              "...                             ...  \n",
              "1852                       0.000000  \n",
              "1853                       0.000000  \n",
              "1854                      -2.877698  \n",
              "1855                      -2.097902  \n",
              "1856                            NaN  \n",
              "\n",
              "[1857 rows x 13 columns]"
            ],
            "text/html": [
              "\n",
              "  <div id=\"df-245a48be-ac11-43d2-841f-407d6a932b56\">\n",
              "    <div class=\"colab-df-container\">\n",
              "      <div>\n",
              "<style scoped>\n",
              "    .dataframe tbody tr th:only-of-type {\n",
              "        vertical-align: middle;\n",
              "    }\n",
              "\n",
              "    .dataframe tbody tr th {\n",
              "        vertical-align: top;\n",
              "    }\n",
              "\n",
              "    .dataframe thead th {\n",
              "        text-align: right;\n",
              "    }\n",
              "</style>\n",
              "<table border=\"1\" class=\"dataframe\">\n",
              "  <thead>\n",
              "    <tr style=\"text-align: right;\">\n",
              "      <th></th>\n",
              "      <th>Date</th>\n",
              "      <th>Open</th>\n",
              "      <th>High</th>\n",
              "      <th>Low</th>\n",
              "      <th>Close</th>\n",
              "      <th>Change</th>\n",
              "      <th>Change(%)</th>\n",
              "      <th>Ratio(%)</th>\n",
              "      <th>Volume</th>\n",
              "      <th>Value(T)</th>\n",
              "      <th>Interval_High_Open</th>\n",
              "      <th>Interval_Open_From_LastDay</th>\n",
              "      <th>Interval_Open_From_LastDay(%)</th>\n",
              "    </tr>\n",
              "  </thead>\n",
              "  <tbody>\n",
              "    <tr>\n",
              "      <th>0</th>\n",
              "      <td>2021-08-30</td>\n",
              "      <td>438</td>\n",
              "      <td>462</td>\n",
              "      <td>434</td>\n",
              "      <td>450</td>\n",
              "      <td>Rise</td>\n",
              "      <td>14</td>\n",
              "      <td>3.21</td>\n",
              "      <td>5444095</td>\n",
              "      <td>244258988</td>\n",
              "      <td>24</td>\n",
              "      <td>2</td>\n",
              "      <td>0.458716</td>\n",
              "    </tr>\n",
              "    <tr>\n",
              "      <th>1</th>\n",
              "      <td>2021-08-27</td>\n",
              "      <td>432</td>\n",
              "      <td>462</td>\n",
              "      <td>410</td>\n",
              "      <td>436</td>\n",
              "      <td>Unchnaged</td>\n",
              "      <td>0</td>\n",
              "      <td>0.00</td>\n",
              "      <td>5179738</td>\n",
              "      <td>229353044</td>\n",
              "      <td>30</td>\n",
              "      <td>-4</td>\n",
              "      <td>-0.917431</td>\n",
              "    </tr>\n",
              "    <tr>\n",
              "      <th>2</th>\n",
              "      <td>2021-08-26</td>\n",
              "      <td>470</td>\n",
              "      <td>472</td>\n",
              "      <td>436</td>\n",
              "      <td>436</td>\n",
              "      <td>Lower limit</td>\n",
              "      <td>32</td>\n",
              "      <td>6.83</td>\n",
              "      <td>5266867</td>\n",
              "      <td>239652022</td>\n",
              "      <td>2</td>\n",
              "      <td>2</td>\n",
              "      <td>0.427350</td>\n",
              "    </tr>\n",
              "    <tr>\n",
              "      <th>3</th>\n",
              "      <td>2021-08-25</td>\n",
              "      <td>476</td>\n",
              "      <td>500</td>\n",
              "      <td>452</td>\n",
              "      <td>468</td>\n",
              "      <td>Unchnaged</td>\n",
              "      <td>0</td>\n",
              "      <td>0.00</td>\n",
              "      <td>14433942</td>\n",
              "      <td>691292155</td>\n",
              "      <td>24</td>\n",
              "      <td>8</td>\n",
              "      <td>1.709402</td>\n",
              "    </tr>\n",
              "    <tr>\n",
              "      <th>4</th>\n",
              "      <td>2021-08-24</td>\n",
              "      <td>424</td>\n",
              "      <td>494</td>\n",
              "      <td>408</td>\n",
              "      <td>468</td>\n",
              "      <td>Rise</td>\n",
              "      <td>48</td>\n",
              "      <td>11.42</td>\n",
              "      <td>14218161</td>\n",
              "      <td>640991240</td>\n",
              "      <td>70</td>\n",
              "      <td>4</td>\n",
              "      <td>0.952381</td>\n",
              "    </tr>\n",
              "    <tr>\n",
              "      <th>...</th>\n",
              "      <td>...</td>\n",
              "      <td>...</td>\n",
              "      <td>...</td>\n",
              "      <td>...</td>\n",
              "      <td>...</td>\n",
              "      <td>...</td>\n",
              "      <td>...</td>\n",
              "      <td>...</td>\n",
              "      <td>...</td>\n",
              "      <td>...</td>\n",
              "      <td>...</td>\n",
              "      <td>...</td>\n",
              "      <td>...</td>\n",
              "    </tr>\n",
              "    <tr>\n",
              "      <th>1852</th>\n",
              "      <td>2014-01-08</td>\n",
              "      <td>136</td>\n",
              "      <td>140</td>\n",
              "      <td>134</td>\n",
              "      <td>138</td>\n",
              "      <td>Rise</td>\n",
              "      <td>2</td>\n",
              "      <td>1.47</td>\n",
              "      <td>19968</td>\n",
              "      <td>271130</td>\n",
              "      <td>4</td>\n",
              "      <td>0</td>\n",
              "      <td>0.000000</td>\n",
              "    </tr>\n",
              "    <tr>\n",
              "      <th>1853</th>\n",
              "      <td>2014-01-07</td>\n",
              "      <td>137</td>\n",
              "      <td>137</td>\n",
              "      <td>135</td>\n",
              "      <td>136</td>\n",
              "      <td>Fall</td>\n",
              "      <td>1</td>\n",
              "      <td>0.72</td>\n",
              "      <td>37809</td>\n",
              "      <td>514110</td>\n",
              "      <td>0</td>\n",
              "      <td>0</td>\n",
              "      <td>0.000000</td>\n",
              "    </tr>\n",
              "    <tr>\n",
              "      <th>1854</th>\n",
              "      <td>2014-01-06</td>\n",
              "      <td>135</td>\n",
              "      <td>140</td>\n",
              "      <td>135</td>\n",
              "      <td>137</td>\n",
              "      <td>Fall</td>\n",
              "      <td>2</td>\n",
              "      <td>1.43</td>\n",
              "      <td>39089</td>\n",
              "      <td>535709</td>\n",
              "      <td>5</td>\n",
              "      <td>-4</td>\n",
              "      <td>-2.877698</td>\n",
              "    </tr>\n",
              "    <tr>\n",
              "      <th>1855</th>\n",
              "      <td>2014-01-03</td>\n",
              "      <td>140</td>\n",
              "      <td>143</td>\n",
              "      <td>137</td>\n",
              "      <td>139</td>\n",
              "      <td>Fall</td>\n",
              "      <td>4</td>\n",
              "      <td>2.79</td>\n",
              "      <td>20685</td>\n",
              "      <td>289775</td>\n",
              "      <td>3</td>\n",
              "      <td>-3</td>\n",
              "      <td>-2.097902</td>\n",
              "    </tr>\n",
              "    <tr>\n",
              "      <th>1856</th>\n",
              "      <td>2014-01-02</td>\n",
              "      <td>137</td>\n",
              "      <td>147</td>\n",
              "      <td>136</td>\n",
              "      <td>143</td>\n",
              "      <td>Rise</td>\n",
              "      <td>10</td>\n",
              "      <td>7.51</td>\n",
              "      <td>10150</td>\n",
              "      <td>142321</td>\n",
              "      <td>10</td>\n",
              "      <td>137</td>\n",
              "      <td>NaN</td>\n",
              "    </tr>\n",
              "  </tbody>\n",
              "</table>\n",
              "<p>1857 rows × 13 columns</p>\n",
              "</div>\n",
              "      <button class=\"colab-df-convert\" onclick=\"convertToInteractive('df-245a48be-ac11-43d2-841f-407d6a932b56')\"\n",
              "              title=\"Convert this dataframe to an interactive table.\"\n",
              "              style=\"display:none;\">\n",
              "        \n",
              "  <svg xmlns=\"http://www.w3.org/2000/svg\" height=\"24px\"viewBox=\"0 0 24 24\"\n",
              "       width=\"24px\">\n",
              "    <path d=\"M0 0h24v24H0V0z\" fill=\"none\"/>\n",
              "    <path d=\"M18.56 5.44l.94 2.06.94-2.06 2.06-.94-2.06-.94-.94-2.06-.94 2.06-2.06.94zm-11 1L8.5 8.5l.94-2.06 2.06-.94-2.06-.94L8.5 2.5l-.94 2.06-2.06.94zm10 10l.94 2.06.94-2.06 2.06-.94-2.06-.94-.94-2.06-.94 2.06-2.06.94z\"/><path d=\"M17.41 7.96l-1.37-1.37c-.4-.4-.92-.59-1.43-.59-.52 0-1.04.2-1.43.59L10.3 9.45l-7.72 7.72c-.78.78-.78 2.05 0 2.83L4 21.41c.39.39.9.59 1.41.59.51 0 1.02-.2 1.41-.59l7.78-7.78 2.81-2.81c.8-.78.8-2.07 0-2.86zM5.41 20L4 18.59l7.72-7.72 1.47 1.35L5.41 20z\"/>\n",
              "  </svg>\n",
              "      </button>\n",
              "      \n",
              "  <style>\n",
              "    .colab-df-container {\n",
              "      display:flex;\n",
              "      flex-wrap:wrap;\n",
              "      gap: 12px;\n",
              "    }\n",
              "\n",
              "    .colab-df-convert {\n",
              "      background-color: #E8F0FE;\n",
              "      border: none;\n",
              "      border-radius: 50%;\n",
              "      cursor: pointer;\n",
              "      display: none;\n",
              "      fill: #1967D2;\n",
              "      height: 32px;\n",
              "      padding: 0 0 0 0;\n",
              "      width: 32px;\n",
              "    }\n",
              "\n",
              "    .colab-df-convert:hover {\n",
              "      background-color: #E2EBFA;\n",
              "      box-shadow: 0px 1px 2px rgba(60, 64, 67, 0.3), 0px 1px 3px 1px rgba(60, 64, 67, 0.15);\n",
              "      fill: #174EA6;\n",
              "    }\n",
              "\n",
              "    [theme=dark] .colab-df-convert {\n",
              "      background-color: #3B4455;\n",
              "      fill: #D2E3FC;\n",
              "    }\n",
              "\n",
              "    [theme=dark] .colab-df-convert:hover {\n",
              "      background-color: #434B5C;\n",
              "      box-shadow: 0px 1px 3px 1px rgba(0, 0, 0, 0.15);\n",
              "      filter: drop-shadow(0px 1px 2px rgba(0, 0, 0, 0.3));\n",
              "      fill: #FFFFFF;\n",
              "    }\n",
              "  </style>\n",
              "\n",
              "      <script>\n",
              "        const buttonEl =\n",
              "          document.querySelector('#df-245a48be-ac11-43d2-841f-407d6a932b56 button.colab-df-convert');\n",
              "        buttonEl.style.display =\n",
              "          google.colab.kernel.accessAllowed ? 'block' : 'none';\n",
              "\n",
              "        async function convertToInteractive(key) {\n",
              "          const element = document.querySelector('#df-245a48be-ac11-43d2-841f-407d6a932b56');\n",
              "          const dataTable =\n",
              "            await google.colab.kernel.invokeFunction('convertToInteractive',\n",
              "                                                     [key], {});\n",
              "          if (!dataTable) return;\n",
              "\n",
              "          const docLinkHtml = 'Like what you see? Visit the ' +\n",
              "            '<a target=\"_blank\" href=https://colab.research.google.com/notebooks/data_table.ipynb>data table notebook</a>'\n",
              "            + ' to learn more about interactive tables.';\n",
              "          element.innerHTML = '';\n",
              "          dataTable['output_type'] = 'display_data';\n",
              "          await google.colab.output.renderOutput(dataTable, element);\n",
              "          const docLink = document.createElement('div');\n",
              "          docLink.innerHTML = docLinkHtml;\n",
              "          element.appendChild(docLink);\n",
              "        }\n",
              "      </script>\n",
              "    </div>\n",
              "  </div>\n",
              "  "
            ]
          },
          "metadata": {},
          "execution_count": 29
        }
      ]
    },
    {
      "cell_type": "code",
      "source": [
        "stock.shape"
      ],
      "metadata": {
        "colab": {
          "base_uri": "https://localhost:8080/"
        },
        "id": "GqF1dI8EdKs3",
        "outputId": "45fc1301-95a7-4dbf-e19f-f8df85f26342"
      },
      "execution_count": 30,
      "outputs": [
        {
          "output_type": "execute_result",
          "data": {
            "text/plain": [
              "(1857, 13)"
            ]
          },
          "metadata": {},
          "execution_count": 30
        }
      ]
    },
    {
      "cell_type": "code",
      "source": [
        "stock.info()"
      ],
      "metadata": {
        "colab": {
          "base_uri": "https://localhost:8080/"
        },
        "id": "_vio7kWFdO8K",
        "outputId": "ec8f438a-230f-4512-fd05-23508a0950d1"
      },
      "execution_count": 31,
      "outputs": [
        {
          "output_type": "stream",
          "name": "stdout",
          "text": [
            "<class 'pandas.core.frame.DataFrame'>\n",
            "RangeIndex: 1857 entries, 0 to 1856\n",
            "Data columns (total 13 columns):\n",
            " #   Column                         Non-Null Count  Dtype         \n",
            "---  ------                         --------------  -----         \n",
            " 0   Date                           1857 non-null   datetime64[ns]\n",
            " 1   Open                           1857 non-null   int64         \n",
            " 2   High                           1857 non-null   int64         \n",
            " 3   Low                            1857 non-null   int64         \n",
            " 4   Close                          1857 non-null   int64         \n",
            " 5   Change                         1841 non-null   object        \n",
            " 6   Change(%)                      1857 non-null   int64         \n",
            " 7   Ratio(%)                       1857 non-null   float64       \n",
            " 8   Volume                         1857 non-null   int64         \n",
            " 9   Value(T)                       1857 non-null   int64         \n",
            " 10  Interval_High_Open             1857 non-null   int64         \n",
            " 11  Interval_Open_From_LastDay     1857 non-null   int64         \n",
            " 12  Interval_Open_From_LastDay(%)  1856 non-null   float64       \n",
            "dtypes: datetime64[ns](1), float64(2), int64(9), object(1)\n",
            "memory usage: 188.7+ KB\n"
          ]
        }
      ]
    },
    {
      "cell_type": "code",
      "source": [
        "stock['Date'] = pd.to_datetime(stock.Date)"
      ],
      "metadata": {
        "id": "nYDUrOPodSIU"
      },
      "execution_count": 32,
      "outputs": []
    },
    {
      "cell_type": "code",
      "source": [
        "stock.info()"
      ],
      "metadata": {
        "colab": {
          "base_uri": "https://localhost:8080/"
        },
        "id": "-D2x6c8sdZhl",
        "outputId": "2790c336-428d-498a-f757-157a76470e44"
      },
      "execution_count": 33,
      "outputs": [
        {
          "output_type": "stream",
          "name": "stdout",
          "text": [
            "<class 'pandas.core.frame.DataFrame'>\n",
            "RangeIndex: 1857 entries, 0 to 1856\n",
            "Data columns (total 13 columns):\n",
            " #   Column                         Non-Null Count  Dtype         \n",
            "---  ------                         --------------  -----         \n",
            " 0   Date                           1857 non-null   datetime64[ns]\n",
            " 1   Open                           1857 non-null   int64         \n",
            " 2   High                           1857 non-null   int64         \n",
            " 3   Low                            1857 non-null   int64         \n",
            " 4   Close                          1857 non-null   int64         \n",
            " 5   Change                         1841 non-null   object        \n",
            " 6   Change(%)                      1857 non-null   int64         \n",
            " 7   Ratio(%)                       1857 non-null   float64       \n",
            " 8   Volume                         1857 non-null   int64         \n",
            " 9   Value(T)                       1857 non-null   int64         \n",
            " 10  Interval_High_Open             1857 non-null   int64         \n",
            " 11  Interval_Open_From_LastDay     1857 non-null   int64         \n",
            " 12  Interval_Open_From_LastDay(%)  1856 non-null   float64       \n",
            "dtypes: datetime64[ns](1), float64(2), int64(9), object(1)\n",
            "memory usage: 188.7+ KB\n"
          ]
        }
      ]
    },
    {
      "cell_type": "code",
      "source": [
        "stock.head()"
      ],
      "metadata": {
        "colab": {
          "base_uri": "https://localhost:8080/",
          "height": 357
        },
        "id": "kuTKLJQBdeGO",
        "outputId": "eed82d31-97a2-4247-86de-a117aa97a2d9"
      },
      "execution_count": 34,
      "outputs": [
        {
          "output_type": "execute_result",
          "data": {
            "text/plain": [
              "        Date  Open  High  Low  Close       Change  Change(%)  Ratio(%)  \\\n",
              "0 2021-08-30   438   462  434    450         Rise         14      3.21   \n",
              "1 2021-08-27   432   462  410    436    Unchnaged          0      0.00   \n",
              "2 2021-08-26   470   472  436    436  Lower limit         32      6.83   \n",
              "3 2021-08-25   476   500  452    468    Unchnaged          0      0.00   \n",
              "4 2021-08-24   424   494  408    468         Rise         48     11.42   \n",
              "\n",
              "     Volume   Value(T)  Interval_High_Open  Interval_Open_From_LastDay  \\\n",
              "0   5444095  244258988                  24                           2   \n",
              "1   5179738  229353044                  30                          -4   \n",
              "2   5266867  239652022                   2                           2   \n",
              "3  14433942  691292155                  24                           8   \n",
              "4  14218161  640991240                  70                           4   \n",
              "\n",
              "   Interval_Open_From_LastDay(%)  \n",
              "0                       0.458716  \n",
              "1                      -0.917431  \n",
              "2                       0.427350  \n",
              "3                       1.709402  \n",
              "4                       0.952381  "
            ],
            "text/html": [
              "\n",
              "  <div id=\"df-712fd9ee-07e3-4603-96f9-df9e92e90fd4\">\n",
              "    <div class=\"colab-df-container\">\n",
              "      <div>\n",
              "<style scoped>\n",
              "    .dataframe tbody tr th:only-of-type {\n",
              "        vertical-align: middle;\n",
              "    }\n",
              "\n",
              "    .dataframe tbody tr th {\n",
              "        vertical-align: top;\n",
              "    }\n",
              "\n",
              "    .dataframe thead th {\n",
              "        text-align: right;\n",
              "    }\n",
              "</style>\n",
              "<table border=\"1\" class=\"dataframe\">\n",
              "  <thead>\n",
              "    <tr style=\"text-align: right;\">\n",
              "      <th></th>\n",
              "      <th>Date</th>\n",
              "      <th>Open</th>\n",
              "      <th>High</th>\n",
              "      <th>Low</th>\n",
              "      <th>Close</th>\n",
              "      <th>Change</th>\n",
              "      <th>Change(%)</th>\n",
              "      <th>Ratio(%)</th>\n",
              "      <th>Volume</th>\n",
              "      <th>Value(T)</th>\n",
              "      <th>Interval_High_Open</th>\n",
              "      <th>Interval_Open_From_LastDay</th>\n",
              "      <th>Interval_Open_From_LastDay(%)</th>\n",
              "    </tr>\n",
              "  </thead>\n",
              "  <tbody>\n",
              "    <tr>\n",
              "      <th>0</th>\n",
              "      <td>2021-08-30</td>\n",
              "      <td>438</td>\n",
              "      <td>462</td>\n",
              "      <td>434</td>\n",
              "      <td>450</td>\n",
              "      <td>Rise</td>\n",
              "      <td>14</td>\n",
              "      <td>3.21</td>\n",
              "      <td>5444095</td>\n",
              "      <td>244258988</td>\n",
              "      <td>24</td>\n",
              "      <td>2</td>\n",
              "      <td>0.458716</td>\n",
              "    </tr>\n",
              "    <tr>\n",
              "      <th>1</th>\n",
              "      <td>2021-08-27</td>\n",
              "      <td>432</td>\n",
              "      <td>462</td>\n",
              "      <td>410</td>\n",
              "      <td>436</td>\n",
              "      <td>Unchnaged</td>\n",
              "      <td>0</td>\n",
              "      <td>0.00</td>\n",
              "      <td>5179738</td>\n",
              "      <td>229353044</td>\n",
              "      <td>30</td>\n",
              "      <td>-4</td>\n",
              "      <td>-0.917431</td>\n",
              "    </tr>\n",
              "    <tr>\n",
              "      <th>2</th>\n",
              "      <td>2021-08-26</td>\n",
              "      <td>470</td>\n",
              "      <td>472</td>\n",
              "      <td>436</td>\n",
              "      <td>436</td>\n",
              "      <td>Lower limit</td>\n",
              "      <td>32</td>\n",
              "      <td>6.83</td>\n",
              "      <td>5266867</td>\n",
              "      <td>239652022</td>\n",
              "      <td>2</td>\n",
              "      <td>2</td>\n",
              "      <td>0.427350</td>\n",
              "    </tr>\n",
              "    <tr>\n",
              "      <th>3</th>\n",
              "      <td>2021-08-25</td>\n",
              "      <td>476</td>\n",
              "      <td>500</td>\n",
              "      <td>452</td>\n",
              "      <td>468</td>\n",
              "      <td>Unchnaged</td>\n",
              "      <td>0</td>\n",
              "      <td>0.00</td>\n",
              "      <td>14433942</td>\n",
              "      <td>691292155</td>\n",
              "      <td>24</td>\n",
              "      <td>8</td>\n",
              "      <td>1.709402</td>\n",
              "    </tr>\n",
              "    <tr>\n",
              "      <th>4</th>\n",
              "      <td>2021-08-24</td>\n",
              "      <td>424</td>\n",
              "      <td>494</td>\n",
              "      <td>408</td>\n",
              "      <td>468</td>\n",
              "      <td>Rise</td>\n",
              "      <td>48</td>\n",
              "      <td>11.42</td>\n",
              "      <td>14218161</td>\n",
              "      <td>640991240</td>\n",
              "      <td>70</td>\n",
              "      <td>4</td>\n",
              "      <td>0.952381</td>\n",
              "    </tr>\n",
              "  </tbody>\n",
              "</table>\n",
              "</div>\n",
              "      <button class=\"colab-df-convert\" onclick=\"convertToInteractive('df-712fd9ee-07e3-4603-96f9-df9e92e90fd4')\"\n",
              "              title=\"Convert this dataframe to an interactive table.\"\n",
              "              style=\"display:none;\">\n",
              "        \n",
              "  <svg xmlns=\"http://www.w3.org/2000/svg\" height=\"24px\"viewBox=\"0 0 24 24\"\n",
              "       width=\"24px\">\n",
              "    <path d=\"M0 0h24v24H0V0z\" fill=\"none\"/>\n",
              "    <path d=\"M18.56 5.44l.94 2.06.94-2.06 2.06-.94-2.06-.94-.94-2.06-.94 2.06-2.06.94zm-11 1L8.5 8.5l.94-2.06 2.06-.94-2.06-.94L8.5 2.5l-.94 2.06-2.06.94zm10 10l.94 2.06.94-2.06 2.06-.94-2.06-.94-.94-2.06-.94 2.06-2.06.94z\"/><path d=\"M17.41 7.96l-1.37-1.37c-.4-.4-.92-.59-1.43-.59-.52 0-1.04.2-1.43.59L10.3 9.45l-7.72 7.72c-.78.78-.78 2.05 0 2.83L4 21.41c.39.39.9.59 1.41.59.51 0 1.02-.2 1.41-.59l7.78-7.78 2.81-2.81c.8-.78.8-2.07 0-2.86zM5.41 20L4 18.59l7.72-7.72 1.47 1.35L5.41 20z\"/>\n",
              "  </svg>\n",
              "      </button>\n",
              "      \n",
              "  <style>\n",
              "    .colab-df-container {\n",
              "      display:flex;\n",
              "      flex-wrap:wrap;\n",
              "      gap: 12px;\n",
              "    }\n",
              "\n",
              "    .colab-df-convert {\n",
              "      background-color: #E8F0FE;\n",
              "      border: none;\n",
              "      border-radius: 50%;\n",
              "      cursor: pointer;\n",
              "      display: none;\n",
              "      fill: #1967D2;\n",
              "      height: 32px;\n",
              "      padding: 0 0 0 0;\n",
              "      width: 32px;\n",
              "    }\n",
              "\n",
              "    .colab-df-convert:hover {\n",
              "      background-color: #E2EBFA;\n",
              "      box-shadow: 0px 1px 2px rgba(60, 64, 67, 0.3), 0px 1px 3px 1px rgba(60, 64, 67, 0.15);\n",
              "      fill: #174EA6;\n",
              "    }\n",
              "\n",
              "    [theme=dark] .colab-df-convert {\n",
              "      background-color: #3B4455;\n",
              "      fill: #D2E3FC;\n",
              "    }\n",
              "\n",
              "    [theme=dark] .colab-df-convert:hover {\n",
              "      background-color: #434B5C;\n",
              "      box-shadow: 0px 1px 3px 1px rgba(0, 0, 0, 0.15);\n",
              "      filter: drop-shadow(0px 1px 2px rgba(0, 0, 0, 0.3));\n",
              "      fill: #FFFFFF;\n",
              "    }\n",
              "  </style>\n",
              "\n",
              "      <script>\n",
              "        const buttonEl =\n",
              "          document.querySelector('#df-712fd9ee-07e3-4603-96f9-df9e92e90fd4 button.colab-df-convert');\n",
              "        buttonEl.style.display =\n",
              "          google.colab.kernel.accessAllowed ? 'block' : 'none';\n",
              "\n",
              "        async function convertToInteractive(key) {\n",
              "          const element = document.querySelector('#df-712fd9ee-07e3-4603-96f9-df9e92e90fd4');\n",
              "          const dataTable =\n",
              "            await google.colab.kernel.invokeFunction('convertToInteractive',\n",
              "                                                     [key], {});\n",
              "          if (!dataTable) return;\n",
              "\n",
              "          const docLinkHtml = 'Like what you see? Visit the ' +\n",
              "            '<a target=\"_blank\" href=https://colab.research.google.com/notebooks/data_table.ipynb>data table notebook</a>'\n",
              "            + ' to learn more about interactive tables.';\n",
              "          element.innerHTML = '';\n",
              "          dataTable['output_type'] = 'display_data';\n",
              "          await google.colab.output.renderOutput(dataTable, element);\n",
              "          const docLink = document.createElement('div');\n",
              "          docLink.innerHTML = docLinkHtml;\n",
              "          element.appendChild(docLink);\n",
              "        }\n",
              "      </script>\n",
              "    </div>\n",
              "  </div>\n",
              "  "
            ]
          },
          "metadata": {},
          "execution_count": 34
        }
      ]
    },
    {
      "cell_type": "code",
      "source": [
        "stock.isnull().sum()"
      ],
      "metadata": {
        "colab": {
          "base_uri": "https://localhost:8080/"
        },
        "id": "USjuIjQSdi3h",
        "outputId": "e21a5179-d92c-4ab3-9986-ce9cf0c295cf"
      },
      "execution_count": 35,
      "outputs": [
        {
          "output_type": "execute_result",
          "data": {
            "text/plain": [
              "Date                              0\n",
              "Open                              0\n",
              "High                              0\n",
              "Low                               0\n",
              "Close                             0\n",
              "Change                           16\n",
              "Change(%)                         0\n",
              "Ratio(%)                          0\n",
              "Volume                            0\n",
              "Value(T)                          0\n",
              "Interval_High_Open                0\n",
              "Interval_Open_From_LastDay        0\n",
              "Interval_Open_From_LastDay(%)     1\n",
              "dtype: int64"
            ]
          },
          "metadata": {},
          "execution_count": 35
        }
      ]
    },
    {
      "cell_type": "code",
      "source": [
        "categorical = [var for var in stock.columns if stock[var].dtype=='O']\n",
        "\n",
        "print('There are {} categorical variables\\n'.format(len(categorical)))\n",
        "\n",
        "print('The categorical variables are :', categorical)\n"
      ],
      "metadata": {
        "colab": {
          "base_uri": "https://localhost:8080/"
        },
        "id": "Mp9rzHKBdqOb",
        "outputId": "b2f8d9aa-de5e-4f68-d047-59f73b1f5b56"
      },
      "execution_count": 36,
      "outputs": [
        {
          "output_type": "stream",
          "name": "stdout",
          "text": [
            "There are 1 categorical variables\n",
            "\n",
            "The categorical variables are : ['Change']\n"
          ]
        }
      ]
    },
    {
      "cell_type": "code",
      "source": [
        "list_drop = ['Change']\n",
        "stock.drop(list_drop,axis = 1, inplace = True)"
      ],
      "metadata": {
        "id": "1Pngg8k4dxgu"
      },
      "execution_count": 37,
      "outputs": []
    },
    {
      "cell_type": "code",
      "source": [
        "change Last koma to numerical\n",
        "stock.replace(',','', regex=True, inplace=True)"
      ],
      "metadata": {
        "id": "aS86_A25gpiR"
      },
      "execution_count": 41,
      "outputs": []
    },
    {
      "cell_type": "code",
      "source": [
        "stock = stock.replace('#DIV/0!', np.nan)"
      ],
      "metadata": {
        "id": "prK7-SmIgxPG"
      },
      "execution_count": 42,
      "outputs": []
    },
    {
      "cell_type": "code",
      "source": [
        "stock['Interval_Open_From_LastDay(%)'] = stock['Interval_Open_From_LastDay(%)'].fillna(0)"
      ],
      "metadata": {
        "id": "4iFrhduXg1iv"
      },
      "execution_count": 43,
      "outputs": []
    },
    {
      "cell_type": "code",
      "source": [
        "stock[\"Volume\"] = pd.to_numeric(stock[\"Volume\"])\n",
        "stock[\"Value(T)\"] = pd.to_numeric(stock[\"Value(T)\"])"
      ],
      "metadata": {
        "id": "E4D6OoHTg4R0"
      },
      "execution_count": 44,
      "outputs": []
    },
    {
      "cell_type": "code",
      "source": [
        "stock[\"Interval_Open_From_LastDay(%)\"] = pd.to_numeric(stock[\"Interval_Open_From_LastDay(%)\"])"
      ],
      "metadata": {
        "id": "OHRxPuibg7tw"
      },
      "execution_count": 45,
      "outputs": []
    },
    {
      "cell_type": "code",
      "source": [
        "categorical = [var for var in stock.columns if stock[var].dtype=='O']\n",
        "\n",
        "print('There are {} categorical variables\\n'.format(len(categorical)))\n",
        "\n",
        "print('The categorical variables are :', categorical)"
      ],
      "metadata": {
        "colab": {
          "base_uri": "https://localhost:8080/"
        },
        "id": "KyWebEGNg_YL",
        "outputId": "c763bf8b-bc09-4dc9-f448-b09caea62d11"
      },
      "execution_count": 46,
      "outputs": [
        {
          "output_type": "stream",
          "name": "stdout",
          "text": [
            "There are 0 categorical variables\n",
            "\n",
            "The categorical variables are : []\n"
          ]
        }
      ]
    },
    {
      "cell_type": "code",
      "source": [
        "stock.info()"
      ],
      "metadata": {
        "colab": {
          "base_uri": "https://localhost:8080/"
        },
        "id": "S9duj-WThDZt",
        "outputId": "06df03c7-f4c6-4a88-8676-d79826b48ea0"
      },
      "execution_count": 47,
      "outputs": [
        {
          "output_type": "stream",
          "name": "stdout",
          "text": [
            "<class 'pandas.core.frame.DataFrame'>\n",
            "RangeIndex: 1857 entries, 0 to 1856\n",
            "Data columns (total 12 columns):\n",
            " #   Column                         Non-Null Count  Dtype         \n",
            "---  ------                         --------------  -----         \n",
            " 0   Date                           1857 non-null   datetime64[ns]\n",
            " 1   Open                           1857 non-null   int64         \n",
            " 2   High                           1857 non-null   int64         \n",
            " 3   Low                            1857 non-null   int64         \n",
            " 4   Close                          1857 non-null   int64         \n",
            " 5   Change(%)                      1857 non-null   int64         \n",
            " 6   Ratio(%)                       1857 non-null   float64       \n",
            " 7   Volume                         1857 non-null   int64         \n",
            " 8   Value(T)                       1857 non-null   int64         \n",
            " 9   Interval_High_Open             1857 non-null   int64         \n",
            " 10  Interval_Open_From_LastDay     1857 non-null   int64         \n",
            " 11  Interval_Open_From_LastDay(%)  1857 non-null   float64       \n",
            "dtypes: datetime64[ns](1), float64(2), int64(9)\n",
            "memory usage: 174.2 KB\n"
          ]
        }
      ]
    },
    {
      "cell_type": "code",
      "source": [
        "plt.figure(figsize=(16,8))\n",
        "plt.title('AXISBANK')\n",
        "plt.xlabel('Date')\n",
        "plt.ylabel('Close price IND (₹)')\n",
        "plt.plot(stock['Open'])\n",
        "plt.show()"
      ],
      "metadata": {
        "colab": {
          "base_uri": "https://localhost:8080/",
          "height": 425
        },
        "id": "nX-uIM7IhGp4",
        "outputId": "91b9cb60-1cd8-478a-b246-94ab7daad728"
      },
      "execution_count": 48,
      "outputs": [
        {
          "output_type": "display_data",
          "data": {
            "text/plain": [
              "<Figure size 1600x800 with 1 Axes>"
            ],
            "image/png": "[encoded data removed]"
          },
          "metadata": {}
        }
      ]
    },
    {
      "cell_type": "code",
      "source": [
        "fig = plt.figure(figsize=(30,15))\n",
        "sns.boxplot(data = stock)"
      ],
      "metadata": {
        "colab": {
          "base_uri": "https://localhost:8080/",
          "height": 1000
        },
        "id": "f3dDEbUvhPkR",
        "outputId": "8378ba6a-3735-430f-e3e6-f1bdee58d0b7"
      },
      "execution_count": 49,
      "outputs": [
        {
          "output_type": "execute_result",
          "data": {
            "text/plain": [
              "<Axes: >"
            ]
          },
          "metadata": {},
          "execution_count": 49
        },
        {
          "output_type": "display_data",
          "data": {
            "text/plain": [
              "<Figure size 3000x1500 with 1 Axes>"
            ],
            "image/png": "[encoded data removed]"
          },
          "metadata": {}
        }
      ]
    },
    {
      "cell_type": "code",
      "source": [
        "import missingno as msno\n",
        "msno.matrix(stock)"
      ],
      "metadata": {
        "colab": {
          "base_uri": "https://localhost:8080/",
          "height": 438
        },
        "id": "-Q4VdJvphUu8",
        "outputId": "6f4797f0-f16f-4aa7-dfbf-274e84fec303"
      },
      "execution_count": 50,
      "outputs": [
        {
          "output_type": "execute_result",
          "data": {
            "text/plain": [
              "<Axes: >"
            ]
          },
          "metadata": {},
          "execution_count": 50
        },
        {
          "output_type": "display_data",
          "data": {
            "text/plain": [
              "<Figure size 2500x1000 with 2 Axes>"
            ],
            "image/png": "[encoded data removed]"
          },
          "metadata": {}
        }
      ]
    },
    {
      "cell_type": "code",
      "source": [
        "stock.describe()"
      ],
      "metadata": {
        "colab": {
          "base_uri": "https://localhost:8080/",
          "height": 364
        },
        "id": "j0dQIvXlhYYH",
        "outputId": "09e81cf2-f9fc-45da-da63-397af71195b2"
      },
      "execution_count": 51,
      "outputs": [
        {
          "output_type": "execute_result",
          "data": {
            "text/plain": [
              "              Open         High          Low        Close    Change(%)  \\\n",
              "count  1857.000000  1857.000000  1857.000000  1857.000000  1857.000000   \n",
              "mean     78.060312    80.190630    76.561120    78.022079     1.653204   \n",
              "std      59.254470    63.448843    56.755437    59.800558     5.600217   \n",
              "min      50.000000    50.000000    50.000000    50.000000     0.000000   \n",
              "25%      50.000000    50.000000    50.000000    50.000000     0.000000   \n",
              "50%      61.000000    63.000000    60.000000    61.000000     0.000000   \n",
              "75%      80.000000    82.000000    78.000000    80.000000     1.000000   \n",
              "max     620.000000   630.000000   570.000000   610.000000    90.000000   \n",
              "\n",
              "          Ratio(%)        Volume      Value(T)  Interval_High_Open  \\\n",
              "count  1857.000000  1.857000e+03  1.857000e+03         1857.000000   \n",
              "mean      1.402003  4.963132e+05  1.176308e+07            2.130318   \n",
              "std       2.932686  2.188012e+06  7.058743e+07            6.505322   \n",
              "min       0.000000  0.000000e+00  0.000000e+00            0.000000   \n",
              "25%       0.000000  2.475000e+03  1.386600e+04            0.000000   \n",
              "50%       0.000000  2.805500e+04  1.895000e+05            1.000000   \n",
              "75%       1.920000  1.116300e+05  8.192670e+05            2.000000   \n",
              "max      35.000000  3.157779e+07  1.125874e+09          105.000000   \n",
              "\n",
              "       Interval_Open_From_LastDay  Interval_Open_From_LastDay(%)  \n",
              "count                  1857.00000                    1857.000000  \n",
              "mean                      0.28056                       0.279590  \n",
              "std                       3.76912                       1.712696  \n",
              "min                     -30.00000                     -10.869565  \n",
              "25%                       0.00000                       0.000000  \n",
              "50%                       0.00000                       0.000000  \n",
              "75%                       0.00000                       0.000000  \n",
              "max                     137.00000                      34.246575  "
            ],
            "text/html": [
              "\n",
              "  <div id=\"df-10997411-b89d-4503-ae64-20cacc09bd68\">\n",
              "    <div class=\"colab-df-container\">\n",
              "      <div>\n",
              "<style scoped>\n",
              "    .dataframe tbody tr th:only-of-type {\n",
              "        vertical-align: middle;\n",
              "    }\n",
              "\n",
              "    .dataframe tbody tr th {\n",
              "        vertical-align: top;\n",
              "    }\n",
              "\n",
              "    .dataframe thead th {\n",
              "        text-align: right;\n",
              "    }\n",
              "</style>\n",
              "<table border=\"1\" class=\"dataframe\">\n",
              "  <thead>\n",
              "    <tr style=\"text-align: right;\">\n",
              "      <th></th>\n",
              "      <th>Open</th>\n",
              "      <th>High</th>\n",
              "      <th>Low</th>\n",
              "      <th>Close</th>\n",
              "      <th>Change(%)</th>\n",
              "      <th>Ratio(%)</th>\n",
              "      <th>Volume</th>\n",
              "      <th>Value(T)</th>\n",
              "      <th>Interval_High_Open</th>\n",
              "      <th>Interval_Open_From_LastDay</th>\n",
              "      <th>Interval_Open_From_LastDay(%)</th>\n",
              "    </tr>\n",
              "  </thead>\n",
              "  <tbody>\n",
              "    <tr>\n",
              "      <th>count</th>\n",
              "      <td>1857.000000</td>\n",
              "      <td>1857.000000</td>\n",
              "      <td>1857.000000</td>\n",
              "      <td>1857.000000</td>\n",
              "      <td>1857.000000</td>\n",
              "      <td>1857.000000</td>\n",
              "      <td>1.857000e+03</td>\n",
              "      <td>1.857000e+03</td>\n",
              "      <td>1857.000000</td>\n",
              "      <td>1857.00000</td>\n",
              "      <td>1857.000000</td>\n",
              "    </tr>\n",
              "    <tr>\n",
              "      <th>mean</th>\n",
              "      <td>78.060312</td>\n",
              "      <td>80.190630</td>\n",
              "      <td>76.561120</td>\n",
              "      <td>78.022079</td>\n",
              "      <td>1.653204</td>\n",
              "      <td>1.402003</td>\n",
              "      <td>4.963132e+05</td>\n",
              "      <td>1.176308e+07</td>\n",
              "      <td>2.130318</td>\n",
              "      <td>0.28056</td>\n",
              "      <td>0.279590</td>\n",
              "    </tr>\n",
              "    <tr>\n",
              "      <th>std</th>\n",
              "      <td>59.254470</td>\n",
              "      <td>63.448843</td>\n",
              "      <td>56.755437</td>\n",
              "      <td>59.800558</td>\n",
              "      <td>5.600217</td>\n",
              "      <td>2.932686</td>\n",
              "      <td>2.188012e+06</td>\n",
              "      <td>7.058743e+07</td>\n",
              "      <td>6.505322</td>\n",
              "      <td>3.76912</td>\n",
              "      <td>1.712696</td>\n",
              "    </tr>\n",
              "    <tr>\n",
              "      <th>min</th>\n",
              "      <td>50.000000</td>\n",
              "      <td>50.000000</td>\n",
              "      <td>50.000000</td>\n",
              "      <td>50.000000</td>\n",
              "      <td>0.000000</td>\n",
              "      <td>0.000000</td>\n",
              "      <td>0.000000e+00</td>\n",
              "      <td>0.000000e+00</td>\n",
              "      <td>0.000000</td>\n",
              "      <td>-30.00000</td>\n",
              "      <td>-10.869565</td>\n",
              "    </tr>\n",
              "    <tr>\n",
              "      <th>25%</th>\n",
              "      <td>50.000000</td>\n",
              "      <td>50.000000</td>\n",
              "      <td>50.000000</td>\n",
              "      <td>50.000000</td>\n",
              "      <td>0.000000</td>\n",
              "      <td>0.000000</td>\n",
              "      <td>2.475000e+03</td>\n",
              "      <td>1.386600e+04</td>\n",
              "      <td>0.000000</td>\n",
              "      <td>0.00000</td>\n",
              "      <td>0.000000</td>\n",
              "    </tr>\n",
              "    <tr>\n",
              "      <th>50%</th>\n",
              "      <td>61.000000</td>\n",
              "      <td>63.000000</td>\n",
              "      <td>60.000000</td>\n",
              "      <td>61.000000</td>\n",
              "      <td>0.000000</td>\n",
              "      <td>0.000000</td>\n",
              "      <td>2.805500e+04</td>\n",
              "      <td>1.895000e+05</td>\n",
              "      <td>1.000000</td>\n",
              "      <td>0.00000</td>\n",
              "      <td>0.000000</td>\n",
              "    </tr>\n",
              "    <tr>\n",
              "      <th>75%</th>\n",
              "      <td>80.000000</td>\n",
              "      <td>82.000000</td>\n",
              "      <td>78.000000</td>\n",
              "      <td>80.000000</td>\n",
              "      <td>1.000000</td>\n",
              "      <td>1.920000</td>\n",
              "      <td>1.116300e+05</td>\n",
              "      <td>8.192670e+05</td>\n",
              "      <td>2.000000</td>\n",
              "      <td>0.00000</td>\n",
              "      <td>0.000000</td>\n",
              "    </tr>\n",
              "    <tr>\n",
              "      <th>max</th>\n",
              "      <td>620.000000</td>\n",
              "      <td>630.000000</td>\n",
              "      <td>570.000000</td>\n",
              "      <td>610.000000</td>\n",
              "      <td>90.000000</td>\n",
              "      <td>35.000000</td>\n",
              "      <td>3.157779e+07</td>\n",
              "      <td>1.125874e+09</td>\n",
              "      <td>105.000000</td>\n",
              "      <td>137.00000</td>\n",
              "      <td>34.246575</td>\n",
              "    </tr>\n",
              "  </tbody>\n",
              "</table>\n",
              "</div>\n",
              "      <button class=\"colab-df-convert\" onclick=\"convertToInteractive('df-10997411-b89d-4503-ae64-20cacc09bd68')\"\n",
              "              title=\"Convert this dataframe to an interactive table.\"\n",
              "              style=\"display:none;\">\n",
              "        \n",
              "  <svg xmlns=\"http://www.w3.org/2000/svg\" height=\"24px\"viewBox=\"0 0 24 24\"\n",
              "       width=\"24px\">\n",
              "    <path d=\"M0 0h24v24H0V0z\" fill=\"none\"/>\n",
              "    <path d=\"M18.56 5.44l.94 2.06.94-2.06 2.06-.94-2.06-.94-.94-2.06-.94 2.06-2.06.94zm-11 1L8.5 8.5l.94-2.06 2.06-.94-2.06-.94L8.5 2.5l-.94 2.06-2.06.94zm10 10l.94 2.06.94-2.06 2.06-.94-2.06-.94-.94-2.06-.94 2.06-2.06.94z\"/><path d=\"M17.41 7.96l-1.37-1.37c-.4-.4-.92-.59-1.43-.59-.52 0-1.04.2-1.43.59L10.3 9.45l-7.72 7.72c-.78.78-.78 2.05 0 2.83L4 21.41c.39.39.9.59 1.41.59.51 0 1.02-.2 1.41-.59l7.78-7.78 2.81-2.81c.8-.78.8-2.07 0-2.86zM5.41 20L4 18.59l7.72-7.72 1.47 1.35L5.41 20z\"/>\n",
              "  </svg>\n",
              "      </button>\n",
              "      \n",
              "  <style>\n",
              "    .colab-df-container {\n",
              "      display:flex;\n",
              "      flex-wrap:wrap;\n",
              "      gap: 12px;\n",
              "    }\n",
              "\n",
              "    .colab-df-convert {\n",
              "      background-color: #E8F0FE;\n",
              "      border: none;\n",
              "      border-radius: 50%;\n",
              "      cursor: pointer;\n",
              "      display: none;\n",
              "      fill: #1967D2;\n",
              "      height: 32px;\n",
              "      padding: 0 0 0 0;\n",
              "      width: 32px;\n",
              "    }\n",
              "\n",
              "    .colab-df-convert:hover {\n",
              "      background-color: #E2EBFA;\n",
              "      box-shadow: 0px 1px 2px rgba(60, 64, 67, 0.3), 0px 1px 3px 1px rgba(60, 64, 67, 0.15);\n",
              "      fill: #174EA6;\n",
              "    }\n",
              "\n",
              "    [theme=dark] .colab-df-convert {\n",
              "      background-color: #3B4455;\n",
              "      fill: #D2E3FC;\n",
              "    }\n",
              "\n",
              "    [theme=dark] .colab-df-convert:hover {\n",
              "      background-color: #434B5C;\n",
              "      box-shadow: 0px 1px 3px 1px rgba(0, 0, 0, 0.15);\n",
              "      filter: drop-shadow(0px 1px 2px rgba(0, 0, 0, 0.3));\n",
              "      fill: #FFFFFF;\n",
              "    }\n",
              "  </style>\n",
              "\n",
              "      <script>\n",
              "        const buttonEl =\n",
              "          document.querySelector('#df-10997411-b89d-4503-ae64-20cacc09bd68 button.colab-df-convert');\n",
              "        buttonEl.style.display =\n",
              "          google.colab.kernel.accessAllowed ? 'block' : 'none';\n",
              "\n",
              "        async function convertToInteractive(key) {\n",
              "          const element = document.querySelector('#df-10997411-b89d-4503-ae64-20cacc09bd68');\n",
              "          const dataTable =\n",
              "            await google.colab.kernel.invokeFunction('convertToInteractive',\n",
              "                                                     [key], {});\n",
              "          if (!dataTable) return;\n",
              "\n",
              "          const docLinkHtml = 'Like what you see? Visit the ' +\n",
              "            '<a target=\"_blank\" href=https://colab.research.google.com/notebooks/data_table.ipynb>data table notebook</a>'\n",
              "            + ' to learn more about interactive tables.';\n",
              "          element.innerHTML = '';\n",
              "          dataTable['output_type'] = 'display_data';\n",
              "          await google.colab.output.renderOutput(dataTable, element);\n",
              "          const docLink = document.createElement('div');\n",
              "          docLink.innerHTML = docLinkHtml;\n",
              "          element.appendChild(docLink);\n",
              "        }\n",
              "      </script>\n",
              "    </div>\n",
              "  </div>\n",
              "  "
            ]
          },
          "metadata": {},
          "execution_count": 51
        }
      ]
    },
    {
      "cell_type": "code",
      "source": [
        "stock.hist(figsize=(12,8),bins=50)"
      ],
      "metadata": {
        "colab": {
          "base_uri": "https://localhost:8080/",
          "height": 779
        },
        "id": "GvbEw6qbhbYQ",
        "outputId": "8e38d353-203d-4162-e28c-da49c9153f77"
      },
      "execution_count": 52,
      "outputs": [
        {
          "output_type": "execute_result",
          "data": {
            "text/plain": [
              "array([[<Axes: title={'center': 'Date'}>,\n",
              "        <Axes: title={'center': 'Open'}>,\n",
              "        <Axes: title={'center': 'High'}>],\n",
              "       [<Axes: title={'center': 'Low'}>,\n",
              "        <Axes: title={'center': 'Close'}>,\n",
              "        <Axes: title={'center': 'Change(%)'}>],\n",
              "       [<Axes: title={'center': 'Ratio(%)'}>,\n",
              "        <Axes: title={'center': 'Volume'}>,\n",
              "        <Axes: title={'center': 'Value(T)'}>],\n",
              "       [<Axes: title={'center': 'Interval_High_Open'}>,\n",
              "        <Axes: title={'center': 'Interval_Open_From_LastDay'}>,\n",
              "        <Axes: title={'center': 'Interval_Open_From_LastDay(%)'}>]],\n",
              "      dtype=object)"
            ]
          },
          "metadata": {},
          "execution_count": 52
        },
        {
          "output_type": "display_data",
          "data": {
            "text/plain": [
              "<Figure size 1200x800 with 12 Axes>"
            ],
            "image/png": "[encoded data removed]"
          },
          "metadata": {}
        }
      ]
    },
    {
      "cell_type": "code",
      "source": [
        "stock.isnull().sum()"
      ],
      "metadata": {
        "colab": {
          "base_uri": "https://localhost:8080/"
        },
        "id": "w-UgHC_vhk7a",
        "outputId": "398cab25-8541-462d-c95c-e821e33d5833"
      },
      "execution_count": 53,
      "outputs": [
        {
          "output_type": "execute_result",
          "data": {
            "text/plain": [
              "Date                             0\n",
              "Open                             0\n",
              "High                             0\n",
              "Low                              0\n",
              "Close                            0\n",
              "Change(%)                        0\n",
              "Ratio(%)                         0\n",
              "Volume                           0\n",
              "Value(T)                         0\n",
              "Interval_High_Open               0\n",
              "Interval_Open_From_LastDay       0\n",
              "Interval_Open_From_LastDay(%)    0\n",
              "dtype: int64"
            ]
          },
          "metadata": {},
          "execution_count": 53
        }
      ]
    },
    {
      "cell_type": "code",
      "source": [
        "stock['Open'].plot(figsize=(12,8))"
      ],
      "metadata": {
        "colab": {
          "base_uri": "https://localhost:8080/",
          "height": 547
        },
        "id": "WCc6ByaOhncK",
        "outputId": "407b446e-d93d-480b-b8ef-b8c50f4a58bf"
      },
      "execution_count": 54,
      "outputs": [
        {
          "output_type": "execute_result",
          "data": {
            "text/plain": [
              "<Axes: >"
            ]
          },
          "metadata": {},
          "execution_count": 54
        },
        {
          "output_type": "display_data",
          "data": {
            "text/plain": [
              "<Figure size 1200x800 with 1 Axes>"
            ],
            "image/png": "[encoded data removed]"
          },
          "metadata": {}
        }
      ]
    },
    {
      "cell_type": "code",
      "source": [
        "X = stock[['Open','High','Low','Volume']]\n",
        "y = stock['Close']"
      ],
      "metadata": {
        "id": "cyyIG0OchqwJ"
      },
      "execution_count": 55,
      "outputs": []
    },
    {
      "cell_type": "code",
      "source": [
        "X_train,X_test,y_train,y_test=train=train_test_split(X,y,random_state=0)"
      ],
      "metadata": {
        "id": "BM3D6M7-hs23"
      },
      "execution_count": 56,
      "outputs": []
    },
    {
      "cell_type": "code",
      "source": [
        "X_train.shape"
      ],
      "metadata": {
        "colab": {
          "base_uri": "https://localhost:8080/"
        },
        "id": "WrI96pZ3hvaF",
        "outputId": "5154789f-f984-4adc-aced-7eb88d8b26b3"
      },
      "execution_count": 57,
      "outputs": [
        {
          "output_type": "execute_result",
          "data": {
            "text/plain": [
              "(1392, 4)"
            ]
          },
          "metadata": {},
          "execution_count": 57
        }
      ]
    },
    {
      "cell_type": "code",
      "source": [
        "X_test.shape"
      ],
      "metadata": {
        "colab": {
          "base_uri": "https://localhost:8080/"
        },
        "id": "w8zwp-fZhx4n",
        "outputId": "23993850-30c3-4d13-eb6f-f9935a76f13e"
      },
      "execution_count": 58,
      "outputs": [
        {
          "output_type": "execute_result",
          "data": {
            "text/plain": [
              "(465, 4)"
            ]
          },
          "metadata": {},
          "execution_count": 58
        }
      ]
    },
    {
      "cell_type": "code",
      "source": [
        "y_train.shape"
      ],
      "metadata": {
        "colab": {
          "base_uri": "https://localhost:8080/"
        },
        "id": "2_M6v2FSh0Gc",
        "outputId": "eda0ce78-bd86-49e1-e250-3d77adcdf08c"
      },
      "execution_count": 59,
      "outputs": [
        {
          "output_type": "execute_result",
          "data": {
            "text/plain": [
              "(1392,)"
            ]
          },
          "metadata": {},
          "execution_count": 59
        }
      ]
    },
    {
      "cell_type": "code",
      "source": [
        "y_test.shape"
      ],
      "metadata": {
        "colab": {
          "base_uri": "https://localhost:8080/"
        },
        "id": "m8qrrFqBh3V_",
        "outputId": "4b5f97e1-4211-4e30-aa2d-ea0f90dc1faf"
      },
      "execution_count": 60,
      "outputs": [
        {
          "output_type": "execute_result",
          "data": {
            "text/plain": [
              "(465,)"
            ]
          },
          "metadata": {},
          "execution_count": 60
        }
      ]
    },
    {
      "cell_type": "code",
      "source": [
        "from sklearn.linear_model import LinearRegression\n",
        "from sklearn.metrics import confusion_matrix, accuracy_score"
      ],
      "metadata": {
        "id": "4MIiG5klh8KR"
      },
      "execution_count": 61,
      "outputs": []
    },
    {
      "cell_type": "code",
      "source": [
        "model=LinearRegression()"
      ],
      "metadata": {
        "id": "WyxAajVKh-N-"
      },
      "execution_count": 62,
      "outputs": []
    },
    {
      "cell_type": "code",
      "source": [
        "model.fit(X_train,y_train)"
      ],
      "metadata": {
        "colab": {
          "base_uri": "https://localhost:8080/",
          "height": 75
        },
        "id": "W0VikzJZiAbU",
        "outputId": "52ec831d-3aad-4cdf-dd8a-1a3674da3888"
      },
      "execution_count": 63,
      "outputs": [
        {
          "output_type": "execute_result",
          "data": {
            "text/plain": [
              "LinearRegression()"
            ],
            "text/html": [
              "<style>#sk-container-id-1 {color: black;background-color: white;}#sk-container-id-1 pre{padding: 0;}#sk-container-id-1 div.sk-toggleable {background-color: white;}#sk-container-id-1 label.sk-toggleable__label {cursor: pointer;display: block;width: 100%;margin-bottom: 0;padding: 0.3em;box-sizing: border-box;text-align: center;}#sk-container-id-1 label.sk-toggleable__label-arrow:before {content: \"▸\";float: left;margin-right: 0.25em;color: #696969;}#sk-container-id-1 label.sk-toggleable__label-arrow:hover:before {color: black;}#sk-container-id-1 div.sk-estimator:hover label.sk-toggleable__label-arrow:before {color: black;}#sk-container-id-1 div.sk-toggleable__content {max-height: 0;max-width: 0;overflow: hidden;text-align: left;background-color: #f0f8ff;}#sk-container-id-1 div.sk-toggleable__content pre {margin: 0.2em;color: black;border-radius: 0.25em;background-color: #f0f8ff;}#sk-container-id-1 input.sk-toggleable__control:checked~div.sk-toggleable__content {max-height: 200px;max-width: 100%;overflow: auto;}#sk-container-id-1 input.sk-toggleable__control:checked~label.sk-toggleable__label-arrow:before {content: \"▾\";}#sk-container-id-1 div.sk-estimator input.sk-toggleable__control:checked~label.sk-toggleable__label {background-color: #d4ebff;}#sk-container-id-1 div.sk-label input.sk-toggleable__control:checked~label.sk-toggleable__label {background-color: #d4ebff;}#sk-container-id-1 input.sk-hidden--visually {border: 0;clip: rect(1px 1px 1px 1px);clip: rect(1px, 1px, 1px, 1px);height: 1px;margin: -1px;overflow: hidden;padding: 0;position: absolute;width: 1px;}#sk-container-id-1 div.sk-estimator {font-family: monospace;background-color: #f0f8ff;border: 1px dotted black;border-radius: 0.25em;box-sizing: border-box;margin-bottom: 0.5em;}#sk-container-id-1 div.sk-estimator:hover {background-color: #d4ebff;}#sk-container-id-1 div.sk-parallel-item::after {content: \"\";width: 100%;border-bottom: 1px solid gray;flex-grow: 1;}#sk-container-id-1 div.sk-label:hover label.sk-toggleable__label {background-color: #d4ebff;}#sk-container-id-1 div.sk-serial::before {content: \"\";position: absolute;border-left: 1px solid gray;box-sizing: border-box;top: 0;bottom: 0;left: 50%;z-index: 0;}#sk-container-id-1 div.sk-serial {display: flex;flex-direction: column;align-items: center;background-color: white;padding-right: 0.2em;padding-left: 0.2em;position: relative;}#sk-container-id-1 div.sk-item {position: relative;z-index: 1;}#sk-container-id-1 div.sk-parallel {display: flex;align-items: stretch;justify-content: center;background-color: white;position: relative;}#sk-container-id-1 div.sk-item::before, #sk-container-id-1 div.sk-parallel-item::before {content: \"\";position: absolute;border-left: 1px solid gray;box-sizing: border-box;top: 0;bottom: 0;left: 50%;z-index: -1;}#sk-container-id-1 div.sk-parallel-item {display: flex;flex-direction: column;z-index: 1;position: relative;background-color: white;}#sk-container-id-1 div.sk-parallel-item:first-child::after {align-self: flex-end;width: 50%;}#sk-container-id-1 div.sk-parallel-item:last-child::after {align-self: flex-start;width: 50%;}#sk-container-id-1 div.sk-parallel-item:only-child::after {width: 0;}#sk-container-id-1 div.sk-dashed-wrapped {border: 1px dashed gray;margin: 0 0.4em 0.5em 0.4em;box-sizing: border-box;padding-bottom: 0.4em;background-color: white;}#sk-container-id-1 div.sk-label label {font-family: monospace;font-weight: bold;display: inline-block;line-height: 1.2em;}#sk-container-id-1 div.sk-label-container {text-align: center;}#sk-container-id-1 div.sk-container {/* jupyter's `normalize.less` sets `[hidden] { display: none; }` but bootstrap.min.css set `[hidden] { display: none !important; }` so we also need the `!important` here to be able to override the default hidden behavior on the sphinx rendered scikit-learn.org. See: https://github.com/scikit-learn/scikit-learn/issues/21755 */display: inline-block !important;position: relative;}#sk-container-id-1 div.sk-text-repr-fallback {display: none;}</style><div id=\"sk-container-id-1\" class=\"sk-top-container\"><div class=\"sk-text-repr-fallback\"><pre>LinearRegression()</pre><b>In a Jupyter environment, please rerun this cell to show the HTML representation or trust the notebook. <br />On GitHub, the HTML representation is unable to render, please try loading this page with nbviewer.org.</b></div><div class=\"sk-container\" hidden><div class=\"sk-item\"><div class=\"sk-estimator sk-toggleable\"><input class=\"sk-toggleable__control sk-hidden--visually\" id=\"sk-estimator-id-1\" type=\"checkbox\" checked><label for=\"sk-estimator-id-1\" class=\"sk-toggleable__label sk-toggleable__label-arrow\">LinearRegression</label><div class=\"sk-toggleable__content\"><pre>LinearRegression()</pre></div></div></div></div></div>"
            ]
          },
          "metadata": {},
          "execution_count": 63
        }
      ]
    },
    {
      "cell_type": "code",
      "source": [
        "print(model.coef_)\n"
      ],
      "metadata": {
        "colab": {
          "base_uri": "https://localhost:8080/"
        },
        "id": "3DX7SVnLiEFm",
        "outputId": "770323ad-41b4-47a1-baf0-a8bb3210d352"
      },
      "execution_count": 64,
      "outputs": [
        {
          "output_type": "stream",
          "name": "stdout",
          "text": [
            "[-7.68158736e-01  7.02173094e-01  1.06449362e+00 -1.29498975e-07]\n"
          ]
        }
      ]
    },
    {
      "cell_type": "code",
      "source": [
        "print(model.intercept_)"
      ],
      "metadata": {
        "colab": {
          "base_uri": "https://localhost:8080/"
        },
        "id": "hlXZ86P7iGkm",
        "outputId": "b87208ae-29d7-4e64-ff16-af62d388ef5d"
      },
      "execution_count": 65,
      "outputs": [
        {
          "output_type": "stream",
          "name": "stdout",
          "text": [
            "0.1701928121499492\n"
          ]
        }
      ]
    },
    {
      "cell_type": "code",
      "source": [
        "predicted = model.predict(X_test)"
      ],
      "metadata": {
        "id": "E2tGpclFiI5K"
      },
      "execution_count": 66,
      "outputs": []
    },
    {
      "cell_type": "code",
      "source": [
        "print(X_test)"
      ],
      "metadata": {
        "colab": {
          "base_uri": "https://localhost:8080/"
        },
        "id": "QwuOebD4iLsh",
        "outputId": "b7c60a8f-d1f2-4b06-a361-f4d6c179e93b"
      },
      "execution_count": 67,
      "outputs": [
        {
          "output_type": "stream",
          "name": "stdout",
          "text": [
            "      Open  High  Low    Volume\n",
            "1769   134   134  131      7496\n",
            "436     50    50   50      2337\n",
            "769     51    51   50    172271\n",
            "789     54    54   52    174456\n",
            "18     360   446  358  17917144\n",
            "...    ...   ...  ...       ...\n",
            "45     350   358  320   3704574\n",
            "1789   137   137  136       367\n",
            "529     50    50   50       168\n",
            "61     168   189  166  10771926\n",
            "1236    81    81   78    123560\n",
            "\n",
            "[465 rows x 4 columns]\n"
          ]
        }
      ]
    },
    {
      "cell_type": "code",
      "source": [
        "predicted.shape"
      ],
      "metadata": {
        "colab": {
          "base_uri": "https://localhost:8080/"
        },
        "id": "QehHzNwTiOy3",
        "outputId": "2f819e58-48c6-42cf-f52c-349fbc5b3215"
      },
      "execution_count": 68,
      "outputs": [
        {
          "output_type": "execute_result",
          "data": {
            "text/plain": [
              "(465,)"
            ]
          },
          "metadata": {},
          "execution_count": 68
        }
      ]
    },
    {
      "cell_type": "code",
      "source": [
        "dframe = pd.DataFrame(y_test,predicted)"
      ],
      "metadata": {
        "id": "vLaW5yO3iRfd"
      },
      "execution_count": 69,
      "outputs": []
    },
    {
      "cell_type": "code",
      "source": [
        "dfr = pd.DataFrame({'Actual':y_test,'predicted':predicted})"
      ],
      "metadata": {
        "id": "jKIQ2sfiiUkD"
      },
      "execution_count": 70,
      "outputs": []
    },
    {
      "cell_type": "code",
      "source": [
        "dfr"
      ],
      "metadata": {
        "colab": {
          "base_uri": "https://localhost:8080/",
          "height": 841
        },
        "id": "U3G0yVXviWFb",
        "outputId": "b9073aef-395f-45e5-a246-cfb725389417"
      },
      "execution_count": 71,
      "outputs": [
        {
          "output_type": "execute_result",
          "data": {
            "text/plain": [
              "      Actual   predicted\n",
              "1769     133  130.775811\n",
              "436       50   50.095289\n",
              "769       51   50.007297\n",
              "789       53   51.938045\n",
              "18       442  415.570713\n",
              "...      ...         ...\n",
              "45       320  322.850824\n",
              "1789     136  135.901245\n",
              "529       50   50.095570\n",
              "61       184  179.141228\n",
              "1236      78   77.839858\n",
              "\n",
              "[465 rows x 2 columns]"
            ],
            "text/html": [
              "\n",
              "  <div id=\"df-9a959bc9-4327-4ec9-aacd-94071ba8cf56\">\n",
              "    <div class=\"colab-df-container\">\n",
              "      <div>\n",
              "<style scoped>\n",
              "    .dataframe tbody tr th:only-of-type {\n",
              "        vertical-align: middle;\n",
              "    }\n",
              "\n",
              "    .dataframe tbody tr th {\n",
              "        vertical-align: top;\n",
              "    }\n",
              "\n",
              "    .dataframe thead th {\n",
              "        text-align: right;\n",
              "    }\n",
              "</style>\n",
              "<table border=\"1\" class=\"dataframe\">\n",
              "  <thead>\n",
              "    <tr style=\"text-align: right;\">\n",
              "      <th></th>\n",
              "      <th>Actual</th>\n",
              "      <th>predicted</th>\n",
              "    </tr>\n",
              "  </thead>\n",
              "  <tbody>\n",
              "    <tr>\n",
              "      <th>1769</th>\n",
              "      <td>133</td>\n",
              "      <td>130.775811</td>\n",
              "    </tr>\n",
              "    <tr>\n",
              "      <th>436</th>\n",
              "      <td>50</td>\n",
              "      <td>50.095289</td>\n",
              "    </tr>\n",
              "    <tr>\n",
              "      <th>769</th>\n",
              "      <td>51</td>\n",
              "      <td>50.007297</td>\n",
              "    </tr>\n",
              "    <tr>\n",
              "      <th>789</th>\n",
              "      <td>53</td>\n",
              "      <td>51.938045</td>\n",
              "    </tr>\n",
              "    <tr>\n",
              "      <th>18</th>\n",
              "      <td>442</td>\n",
              "      <td>415.570713</td>\n",
              "    </tr>\n",
              "    <tr>\n",
              "      <th>...</th>\n",
              "      <td>...</td>\n",
              "      <td>...</td>\n",
              "    </tr>\n",
              "    <tr>\n",
              "      <th>45</th>\n",
              "      <td>320</td>\n",
              "      <td>322.850824</td>\n",
              "    </tr>\n",
              "    <tr>\n",
              "      <th>1789</th>\n",
              "      <td>136</td>\n",
              "      <td>135.901245</td>\n",
              "    </tr>\n",
              "    <tr>\n",
              "      <th>529</th>\n",
              "      <td>50</td>\n",
              "      <td>50.095570</td>\n",
              "    </tr>\n",
              "    <tr>\n",
              "      <th>61</th>\n",
              "      <td>184</td>\n",
              "      <td>179.141228</td>\n",
              "    </tr>\n",
              "    <tr>\n",
              "      <th>1236</th>\n",
              "      <td>78</td>\n",
              "      <td>77.839858</td>\n",
              "    </tr>\n",
              "  </tbody>\n",
              "</table>\n",
              "<p>465 rows × 2 columns</p>\n",
              "</div>\n",
              "      <button class=\"colab-df-convert\" onclick=\"convertToInteractive('df-9a959bc9-4327-4ec9-aacd-94071ba8cf56')\"\n",
              "              title=\"Convert this dataframe to an interactive table.\"\n",
              "              style=\"display:none;\">\n",
              "        \n",
              "  <svg xmlns=\"http://www.w3.org/2000/svg\" height=\"24px\"viewBox=\"0 0 24 24\"\n",
              "       width=\"24px\">\n",
              "    <path d=\"M0 0h24v24H0V0z\" fill=\"none\"/>\n",
              "    <path d=\"M18.56 5.44l.94 2.06.94-2.06 2.06-.94-2.06-.94-.94-2.06-.94 2.06-2.06.94zm-11 1L8.5 8.5l.94-2.06 2.06-.94-2.06-.94L8.5 2.5l-.94 2.06-2.06.94zm10 10l.94 2.06.94-2.06 2.06-.94-2.06-.94-.94-2.06-.94 2.06-2.06.94z\"/><path d=\"M17.41 7.96l-1.37-1.37c-.4-.4-.92-.59-1.43-.59-.52 0-1.04.2-1.43.59L10.3 9.45l-7.72 7.72c-.78.78-.78 2.05 0 2.83L4 21.41c.39.39.9.59 1.41.59.51 0 1.02-.2 1.41-.59l7.78-7.78 2.81-2.81c.8-.78.8-2.07 0-2.86zM5.41 20L4 18.59l7.72-7.72 1.47 1.35L5.41 20z\"/>\n",
              "  </svg>\n",
              "      </button>\n",
              "      \n",
              "  <style>\n",
              "    .colab-df-container {\n",
              "      display:flex;\n",
              "      flex-wrap:wrap;\n",
              "      gap: 12px;\n",
              "    }\n",
              "\n",
              "    .colab-df-convert {\n",
              "      background-color: #E8F0FE;\n",
              "      border: none;\n",
              "      border-radius: 50%;\n",
              "      cursor: pointer;\n",
              "      display: none;\n",
              "      fill: #1967D2;\n",
              "      height: 32px;\n",
              "      padding: 0 0 0 0;\n",
              "      width: 32px;\n",
              "    }\n",
              "\n",
              "    .colab-df-convert:hover {\n",
              "      background-color: #E2EBFA;\n",
              "      box-shadow: 0px 1px 2px rgba(60, 64, 67, 0.3), 0px 1px 3px 1px rgba(60, 64, 67, 0.15);\n",
              "      fill: #174EA6;\n",
              "    }\n",
              "\n",
              "    [theme=dark] .colab-df-convert {\n",
              "      background-color: #3B4455;\n",
              "      fill: #D2E3FC;\n",
              "    }\n",
              "\n",
              "    [theme=dark] .colab-df-convert:hover {\n",
              "      background-color: #434B5C;\n",
              "      box-shadow: 0px 1px 3px 1px rgba(0, 0, 0, 0.15);\n",
              "      filter: drop-shadow(0px 1px 2px rgba(0, 0, 0, 0.3));\n",
              "      fill: #FFFFFF;\n",
              "    }\n",
              "  </style>\n",
              "\n",
              "      <script>\n",
              "        const buttonEl =\n",
              "          document.querySelector('#df-9a959bc9-4327-4ec9-aacd-94071ba8cf56 button.colab-df-convert');\n",
              "        buttonEl.style.display =\n",
              "          google.colab.kernel.accessAllowed ? 'block' : 'none';\n",
              "\n",
              "        async function convertToInteractive(key) {\n",
              "          const element = document.querySelector('#df-9a959bc9-4327-4ec9-aacd-94071ba8cf56');\n",
              "          const dataTable =\n",
              "            await google.colab.kernel.invokeFunction('convertToInteractive',\n",
              "                                                     [key], {});\n",
              "          if (!dataTable) return;\n",
              "\n",
              "          const docLinkHtml = 'Like what you see? Visit the ' +\n",
              "            '<a target=\"_blank\" href=https://colab.research.google.com/notebooks/data_table.ipynb>data table notebook</a>'\n",
              "            + ' to learn more about interactive tables.';\n",
              "          element.innerHTML = '';\n",
              "          dataTable['output_type'] = 'display_data';\n",
              "          await google.colab.output.renderOutput(dataTable, element);\n",
              "          const docLink = document.createElement('div');\n",
              "          docLink.innerHTML = docLinkHtml;\n",
              "          element.appendChild(docLink);\n",
              "        }\n",
              "      </script>\n",
              "    </div>\n",
              "  </div>\n",
              "  "
            ]
          },
          "metadata": {},
          "execution_count": 71
        }
      ]
    },
    {
      "cell_type": "code",
      "source": [
        "dfr.head()"
      ],
      "metadata": {
        "colab": {
          "base_uri": "https://localhost:8080/",
          "height": 206
        },
        "id": "Dwbhj_5tiZpp",
        "outputId": "a11a9d8f-29a8-41a6-bf55-871d514884e2"
      },
      "execution_count": 72,
      "outputs": [
        {
          "output_type": "execute_result",
          "data": {
            "text/plain": [
              "      Actual   predicted\n",
              "1769     133  130.775811\n",
              "436       50   50.095289\n",
              "769       51   50.007297\n",
              "789       53   51.938045\n",
              "18       442  415.570713"
            ],
            "text/html": [
              "\n",
              "  <div id=\"df-1c64f1c0-46c5-4cb9-9009-5a3ab4f52d02\">\n",
              "    <div class=\"colab-df-container\">\n",
              "      <div>\n",
              "<style scoped>\n",
              "    .dataframe tbody tr th:only-of-type {\n",
              "        vertical-align: middle;\n",
              "    }\n",
              "\n",
              "    .dataframe tbody tr th {\n",
              "        vertical-align: top;\n",
              "    }\n",
              "\n",
              "    .dataframe thead th {\n",
              "        text-align: right;\n",
              "    }\n",
              "</style>\n",
              "<table border=\"1\" class=\"dataframe\">\n",
              "  <thead>\n",
              "    <tr style=\"text-align: right;\">\n",
              "      <th></th>\n",
              "      <th>Actual</th>\n",
              "      <th>predicted</th>\n",
              "    </tr>\n",
              "  </thead>\n",
              "  <tbody>\n",
              "    <tr>\n",
              "      <th>1769</th>\n",
              "      <td>133</td>\n",
              "      <td>130.775811</td>\n",
              "    </tr>\n",
              "    <tr>\n",
              "      <th>436</th>\n",
              "      <td>50</td>\n",
              "      <td>50.095289</td>\n",
              "    </tr>\n",
              "    <tr>\n",
              "      <th>769</th>\n",
              "      <td>51</td>\n",
              "      <td>50.007297</td>\n",
              "    </tr>\n",
              "    <tr>\n",
              "      <th>789</th>\n",
              "      <td>53</td>\n",
              "      <td>51.938045</td>\n",
              "    </tr>\n",
              "    <tr>\n",
              "      <th>18</th>\n",
              "      <td>442</td>\n",
              "      <td>415.570713</td>\n",
              "    </tr>\n",
              "  </tbody>\n",
              "</table>\n",
              "</div>\n",
              "      <button class=\"colab-df-convert\" onclick=\"convertToInteractive('df-1c64f1c0-46c5-4cb9-9009-5a3ab4f52d02')\"\n",
              "              title=\"Convert this dataframe to an interactive table.\"\n",
              "              style=\"display:none;\">\n",
              "        \n",
              "  <svg xmlns=\"http://www.w3.org/2000/svg\" height=\"24px\"viewBox=\"0 0 24 24\"\n",
              "       width=\"24px\">\n",
              "    <path d=\"M0 0h24v24H0V0z\" fill=\"none\"/>\n",
              "    <path d=\"M18.56 5.44l.94 2.06.94-2.06 2.06-.94-2.06-.94-.94-2.06-.94 2.06-2.06.94zm-11 1L8.5 8.5l.94-2.06 2.06-.94-2.06-.94L8.5 2.5l-.94 2.06-2.06.94zm10 10l.94 2.06.94-2.06 2.06-.94-2.06-.94-.94-2.06-.94 2.06-2.06.94z\"/><path d=\"M17.41 7.96l-1.37-1.37c-.4-.4-.92-.59-1.43-.59-.52 0-1.04.2-1.43.59L10.3 9.45l-7.72 7.72c-.78.78-.78 2.05 0 2.83L4 21.41c.39.39.9.59 1.41.59.51 0 1.02-.2 1.41-.59l7.78-7.78 2.81-2.81c.8-.78.8-2.07 0-2.86zM5.41 20L4 18.59l7.72-7.72 1.47 1.35L5.41 20z\"/>\n",
              "  </svg>\n",
              "      </button>\n",
              "      \n",
              "  <style>\n",
              "    .colab-df-container {\n",
              "      display:flex;\n",
              "      flex-wrap:wrap;\n",
              "      gap: 12px;\n",
              "    }\n",
              "\n",
              "    .colab-df-convert {\n",
              "      background-color: #E8F0FE;\n",
              "      border: none;\n",
              "      border-radius: 50%;\n",
              "      cursor: pointer;\n",
              "      display: none;\n",
              "      fill: #1967D2;\n",
              "      height: 32px;\n",
              "      padding: 0 0 0 0;\n",
              "      width: 32px;\n",
              "    }\n",
              "\n",
              "    .colab-df-convert:hover {\n",
              "      background-color: #E2EBFA;\n",
              "      box-shadow: 0px 1px 2px rgba(60, 64, 67, 0.3), 0px 1px 3px 1px rgba(60, 64, 67, 0.15);\n",
              "      fill: #174EA6;\n",
              "    }\n",
              "\n",
              "    [theme=dark] .colab-df-convert {\n",
              "      background-color: #3B4455;\n",
              "      fill: #D2E3FC;\n",
              "    }\n",
              "\n",
              "    [theme=dark] .colab-df-convert:hover {\n",
              "      background-color: #434B5C;\n",
              "      box-shadow: 0px 1px 3px 1px rgba(0, 0, 0, 0.15);\n",
              "      filter: drop-shadow(0px 1px 2px rgba(0, 0, 0, 0.3));\n",
              "      fill: #FFFFFF;\n",
              "    }\n",
              "  </style>\n",
              "\n",
              "      <script>\n",
              "        const buttonEl =\n",
              "          document.querySelector('#df-1c64f1c0-46c5-4cb9-9009-5a3ab4f52d02 button.colab-df-convert');\n",
              "        buttonEl.style.display =\n",
              "          google.colab.kernel.accessAllowed ? 'block' : 'none';\n",
              "\n",
              "        async function convertToInteractive(key) {\n",
              "          const element = document.querySelector('#df-1c64f1c0-46c5-4cb9-9009-5a3ab4f52d02');\n",
              "          const dataTable =\n",
              "            await google.colab.kernel.invokeFunction('convertToInteractive',\n",
              "                                                     [key], {});\n",
              "          if (!dataTable) return;\n",
              "\n",
              "          const docLinkHtml = 'Like what you see? Visit the ' +\n",
              "            '<a target=\"_blank\" href=https://colab.research.google.com/notebooks/data_table.ipynb>data table notebook</a>'\n",
              "            + ' to learn more about interactive tables.';\n",
              "          element.innerHTML = '';\n",
              "          dataTable['output_type'] = 'display_data';\n",
              "          await google.colab.output.renderOutput(dataTable, element);\n",
              "          const docLink = document.createElement('div');\n",
              "          docLink.innerHTML = docLinkHtml;\n",
              "          element.appendChild(docLink);\n",
              "        }\n",
              "      </script>\n",
              "    </div>\n",
              "  </div>\n",
              "  "
            ]
          },
          "metadata": {},
          "execution_count": 72
        }
      ]
    },
    {
      "cell_type": "code",
      "source": [
        "model.score(X_test,y_test)"
      ],
      "metadata": {
        "colab": {
          "base_uri": "https://localhost:8080/"
        },
        "id": "VrDnZaQYiceP",
        "outputId": "5616c9b2-f401-4753-9b5f-735d0a37fe8b"
      },
      "execution_count": 73,
      "outputs": [
        {
          "output_type": "execute_result",
          "data": {
            "text/plain": [
              "0.9981047181873536"
            ]
          },
          "metadata": {},
          "execution_count": 73
        }
      ]
    },
    {
      "cell_type": "code",
      "source": [
        "import math"
      ],
      "metadata": {
        "id": "hc0qWRf_iilT"
      },
      "execution_count": 74,
      "outputs": []
    },
    {
      "cell_type": "code",
      "source": [
        "print('Mean Absolute Error:',metrics.mean_absolute_error(y_test,predicted))"
      ],
      "metadata": {
        "colab": {
          "base_uri": "https://localhost:8080/"
        },
        "id": "Hbgc2-bwikuH",
        "outputId": "4bbf0da5-bc27-4146-8c22-754b9f17354b"
      },
      "execution_count": 75,
      "outputs": [
        {
          "output_type": "stream",
          "name": "stdout",
          "text": [
            "Mean Absolute Error: 1.1801542436272703\n"
          ]
        }
      ]
    },
    {
      "cell_type": "code",
      "source": [
        "print('Mean Squared Error:',metrics.mean_squared_error(y_test,predicted))\n"
      ],
      "metadata": {
        "colab": {
          "base_uri": "https://localhost:8080/"
        },
        "id": "mjp7vhy2inUk",
        "outputId": "58b1d0d7-28ae-44a5-9f5a-9bf8e6b774c5"
      },
      "execution_count": 76,
      "outputs": [
        {
          "output_type": "stream",
          "name": "stdout",
          "text": [
            "Mean Squared Error: 10.032038951536155\n"
          ]
        }
      ]
    },
    {
      "cell_type": "code",
      "source": [
        "print('Root Mean Squared Error:',math.sqrt(metrics.mean_squared_error(y_test,predicted)))"
      ],
      "metadata": {
        "colab": {
          "base_uri": "https://localhost:8080/"
        },
        "id": "PEGM2fMIip6r",
        "outputId": "d4caadec-438a-4380-bdbe-54522ce68e00"
      },
      "execution_count": 77,
      "outputs": [
        {
          "output_type": "stream",
          "name": "stdout",
          "text": [
            "Root Mean Squared Error: 3.1673394121148677\n"
          ]
        }
      ]
    },
    {
      "cell_type": "code",
      "source": [
        "graph=dfr.head(25)"
      ],
      "metadata": {
        "id": "AdZMOgozisZP"
      },
      "execution_count": 78,
      "outputs": []
    },
    {
      "cell_type": "code",
      "source": [
        "graph.plot(kind = 'bar')"
      ],
      "metadata": {
        "colab": {
          "base_uri": "https://localhost:8080/",
          "height": 469
        },
        "id": "nkMiP146iuxO",
        "outputId": "e2d274a5-2d46-44c9-c985-46d64557a055"
      },
      "execution_count": 79,
      "outputs": [
        {
          "output_type": "execute_result",
          "data": {
            "text/plain": [
              "<Axes: >"
            ]
          },
          "metadata": {},
          "execution_count": 79
        },
        {
          "output_type": "display_data",
          "data": {
            "text/plain": [
              "<Figure size 640x480 with 1 Axes>"
            ],
            "image/png": "[encoded data removed]"
          },
          "metadata": {}
        }
      ]
    }
  ]
}